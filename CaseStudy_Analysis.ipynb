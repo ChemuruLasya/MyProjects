{
 "cells": [
  {
   "attachments": {
    "image-5.png": {
     "image/png": "[encoded data removed]"
    }
   },
   "cell_type": "markdown",
   "id": "83b02f6a",
   "metadata": {},
   "source": [
    "![image-5.png](attachment:image-5.png)"
   ]
  },
  {
   "cell_type": "markdown",
   "id": "72f89392",
   "metadata": {},
   "source": [
    "**TABLE OF CONTENTS**\n",
    "\n",
    "1. [INTRODUCTION](#1-introduction)\n",
    "2. [OVERVIEW OF THE DATA](#2-overview-of-the-data)\n",
    "3. [ANALYSIS GOALS](#3-analysis-goals)\n",
    "4. [METHODOLOGY](#4-methodology)  \n",
    "   4.1. [DATA CLEANING](#41-data-cleaning)  \n",
    "   4.2. [DATA TRANSFORMATION](#42-data-transformation)  \n",
    "   4.3. [DATA ANALYSIS](#43-data-analysis)  \n",
    "      4.3.1. [Understanding customer responses](#431-understanding-customer-responses)  \n",
    "      4.3.2. [Identifying influencing factors](#432-identifying-influencing-factors)  \n",
    "      4.3.3. [Customer Demographics Analysis](#433-customer-demographics-analysis)  \n",
    "      4.3.4. [Customer Segmentation](#434-customer-segmentation)\n",
    "5. [RESULTS SUMMARY](#5-results-summary)\n",
    "6. [ACTIONS AND RECOMMENDATIONS](#6-actions-and-recommendations)\n"
   ]
  },
  {
   "cell_type": "markdown",
   "id": "4f5cf8bd",
   "metadata": {},
   "source": [
    "<br><br><br>"
   ]
  },
  {
   "cell_type": "markdown",
   "id": "c476dc27",
   "metadata": {},
   "source": [
    "**1.INTRODUCTION**  <a class=\"anchor\" id=\"1-introduction\"></a>\n",
    "\n",
    "In this case study, I will analyze data provided by Starbucks during a promotional campaign. My objective is to understand customer responses to different offers and develop strategies for targeting specific deals to various customer segments. The ultimate goal is to boost revenue, increase customer loyalty, and enhance brand awareness. To achieve this, I will employ specific analytical methods to gain valuable insights based on the results obtained."
   ]
  },
  {
   "cell_type": "markdown",
   "id": "ba4892e1",
   "metadata": {},
   "source": [
    "<br><br><br>"
   ]
  },
  {
   "cell_type": "markdown",
   "id": "96ca7d12",
   "metadata": {},
   "source": [
    "**2.OVERVIEW OF THE DATA** <a class=\"anchor\" id=\"2-overview-of-the-data\"></a>\n",
    "\n",
    "Throughout the promotional month, various offers with different types, durations, rewards, and challenges were sent to 17,000 customers through multiple channels, including social media, email, mobile apps, and websites. Offers were distributed to customers at intervals over the course of the month, but not everyone received the same number. Most customers received between 3 to 5 offers, while some received none. The dataset captures customer responses to these offers, along with transactions made during the campaign. Events are recorded under three offer-related categories: offer received, offer viewed, and offer completed. Additionally, there's a transaction event, representing a customer's purchase. The timing of each event is noted in hours, starting from the launch of the first offer (time = 0 hours).\n",
    "\n",
    "\n",
    "There are a total of three different data sets:\n",
    "\n",
    "profile.csv (17000, 5) - Data about customers containg colums such as gender, age, id, became member on, income \n",
    "https://github.com/ChemuruLasya/MyProjects/blob/main/Starbucks_profile.xlsx\n",
    "\n",
    "\n",
    "portfolio.csv (10,6) - Data about offers sent to customers having columns reward, channels, difficulty, duration, offer_type, id \n",
    "https://github.com/ChemuruLasya/MyProjects/blob/main/Starbucks_portfolio.xlsx\n",
    "\n",
    "\n",
    "transcript.csv(306534, 4) - Data about customer responses to offers reffered as events in latter part of this anlysis and transactions made having columns such as person, event, value, time\n",
    "https://github.com/ChemuruLasya/MyProjects/blob/main/Starbucks_transcript.xlsx"
   ]
  },
  {
   "cell_type": "markdown",
   "id": "e6070ea1",
   "metadata": {},
   "source": [
    "<br><br><br>"
   ]
  },
  {
   "cell_type": "markdown",
   "id": "b319f2cd",
   "metadata": {},
   "source": [
    "**3.ANALYSIS GOALS** <a class=\"anchor\" id=\"3-analysis-goals\"></a>\n",
    "\n",
    "1. **Understanding Customer Responses**: Analyzing how customers reacted to the various offers launched during the campaign.\n",
    "  \n",
    "2. **Identifying Influencing Factors**: Investigating the potential reasons behind different customer responses to the offers.\n",
    "\n",
    "3. **Demographic Analysis**: Exploring the general demographics of the customers to understand the makeup of the customer base.\n",
    "\n",
    "4. **Customer Segmentation and Value**: Segmenting the customers based on their behaviors and determining the value each segment brings to the company."
   ]
  },
  {
   "cell_type": "markdown",
   "id": "a42e161f",
   "metadata": {},
   "source": [
    "<br><br><br>"
   ]
  },
  {
   "cell_type": "markdown",
   "id": "d79830a5",
   "metadata": {},
   "source": [
    "**4.METHODOLOGY**  <a class=\"anchor\" id=\"4-methodology\"></a>"
   ]
  },
  {
   "cell_type": "markdown",
   "id": "923c7b6d",
   "metadata": {},
   "source": [
    "**DATA CLEANING → DATA TRANSFORMATION → DATA ANALYSIS**\n",
    "\n",
    "**4.1. Data Cleaning**\n",
    "\n",
    "- **Dropped Unnecessary Columns**: Removed columns that were not useful for the analysis to reduce noise and focus on relevant data.\n",
    "- **Handled Missing Values**: Checked for missing values and removed records with missing values to ensure the accuracy and reliability of the subsequent analysis.\n",
    "\n",
    "**4.2. Data Transformation**\n",
    "\n",
    "- **Created `offer_code` Column**: Introduced a new column called `offer_code` to simplify the identification of offers, as using the `offer_ID` was cumbersome.\n",
    "- **Split Complex Columns**: Separated columns containing multiple strings into distinct columns to facilitate more efficient analysis.\n",
    "\n",
    "**4.3. Data Analysis**\n",
    "\n",
    "4.3.1.Understanding Customer Responses\n",
    "\n",
    "- **Univariate Analysis on Event Data**: Performed an initial univariate analysis to understand customer interactions with offers.\n",
    "- **Joined Transaction and Offer Data**: Merged transaction data with offer data to calculate overall offer completion and view rates.\n",
    "\n",
    "4.3.2.Identifying Influencing Factors on Customer Responses\n",
    "\n",
    "- **Analysis of Channels Used**: Examined the channels through which offers were delivered and how they impacted customer responses.\n",
    "- **Offer Type and Customer Response**: Analyzed the influence of different offer types and the statistics associated with each to identify patterns in customer responses.\n",
    "\n",
    "4.3.3.Performing Analysis on Customer Demographics\n",
    "\n",
    "- **Demographic Insights**: Identified key demographics such as gender and age distribution.\n",
    "- **Bivariate Analysis of Income vs. Age**: Explored the relationship between income and age.\n",
    "- **Starbucks Membership Analysis**: Investigated membership patterns over time (yearly, monthly, and weekday trends) to identify additional factors influencing customer behavior beyond the offers.\n",
    "\n",
    "4.3.4.Customer Segmentation\n",
    "\n",
    "- **Clustering Customers**: Used the K-Means clustering algorithm to segment customers based on their value to the company, utilizing transaction and event data.\n",
    "- **Strategic Customer Targeting**: Developed targeted strategies for each customer segment, prioritizing investments to boost revenue and customer loyalty while optimizing budget allocation.\n",
    "- **Validation and Metrics**: Cross-validated clustering results with Logistic Regression and KNN algorithms, identified key metrics for each cluster, and named the clusters accordingly.\n",
    "- **Demographic Analysis of Clusters**: Merged the clustering results with customer data to explore the basic demographics of each segment.\n"
   ]
  },
  {
   "cell_type": "markdown",
   "id": "5c231747",
   "metadata": {},
   "source": [
    "<br><br><br>"
   ]
  },
  {
   "cell_type": "markdown",
   "id": "3e64b57f",
   "metadata": {},
   "source": [
    "**  **"
   ]
  },
  {
   "cell_type": "markdown",
   "id": "2f2fb944",
   "metadata": {},
   "source": [
    "IMPORTING NECESSARY LIBRARIES"
   ]
  },
  {
   "cell_type": "code",
   "execution_count": 1,
   "id": "6719d4cb",
   "metadata": {},
   "outputs": [],
   "source": [
    "#!pip install pandas\n",
    "#!pip install numpy\n",
    "#!pip install matplotlib\n",
    "#!pip install sckit-learnfd\n",
    "#!pip install seaborn"
   ]
  },
  {
   "cell_type": "code",
   "execution_count": 2,
   "id": "2e197126",
   "metadata": {},
   "outputs": [],
   "source": [
    "import numpy as np \n",
    "import pandas as pd\n",
    "import matplotlib.pyplot as plt\n",
    "import matplotlib.dates as mdates\n",
    "import seaborn as sns"
   ]
  },
  {
   "cell_type": "code",
   "execution_count": 3,
   "id": "467cefe4",
   "metadata": {},
   "outputs": [],
   "source": [
    "#Adding background color to my plots\n",
    "plt.style.use('seaborn-v0_8-dark')"
   ]
  },
  {
   "cell_type": "code",
   "execution_count": 4,
   "id": "4968c66e",
   "metadata": {},
   "outputs": [],
   "source": [
    "%matplotlib inline"
   ]
  },
  {
   "cell_type": "markdown",
   "id": "da15367c",
   "metadata": {},
   "source": [
    "KNOWING THE GIVEN DATA SETS"
   ]
  },
  {
   "cell_type": "code",
   "execution_count": 5,
   "id": "0e4f6b8b",
   "metadata": {},
   "outputs": [
    {
     "data": {
      "text/html": [
       "<div>\n",
       "<style scoped>\n",
       "    .dataframe tbody tr th:only-of-type {\n",
       "        vertical-align: middle;\n",
       "    }\n",
       "\n",
       "    .dataframe tbody tr th {\n",
       "        vertical-align: top;\n",
       "    }\n",
       "\n",
       "    .dataframe thead th {\n",
       "        text-align: right;\n",
       "    }\n",
       "</style>\n",
       "<table border=\"1\" class=\"dataframe\">\n",
       "  <thead>\n",
       "    <tr style=\"text-align: right;\">\n",
       "      <th></th>\n",
       "      <th>Unnamed: 0</th>\n",
       "      <th>gender</th>\n",
       "      <th>age</th>\n",
       "      <th>id</th>\n",
       "      <th>became_member_on</th>\n",
       "      <th>income</th>\n",
       "    </tr>\n",
       "  </thead>\n",
       "  <tbody>\n",
       "    <tr>\n",
       "      <th>0</th>\n",
       "      <td>0</td>\n",
       "      <td>NaN</td>\n",
       "      <td>118</td>\n",
       "      <td>68be06ca386d4c31939f3a4f0e3dd783</td>\n",
       "      <td>20170212</td>\n",
       "      <td>NaN</td>\n",
       "    </tr>\n",
       "    <tr>\n",
       "      <th>1</th>\n",
       "      <td>1</td>\n",
       "      <td>F</td>\n",
       "      <td>55</td>\n",
       "      <td>0610b486422d4921ae7d2bf64640c50b</td>\n",
       "      <td>20170715</td>\n",
       "      <td>112000.0</td>\n",
       "    </tr>\n",
       "    <tr>\n",
       "      <th>2</th>\n",
       "      <td>2</td>\n",
       "      <td>NaN</td>\n",
       "      <td>118</td>\n",
       "      <td>38fe809add3b4fcf9315a9694bb96ff5</td>\n",
       "      <td>20180712</td>\n",
       "      <td>NaN</td>\n",
       "    </tr>\n",
       "    <tr>\n",
       "      <th>3</th>\n",
       "      <td>3</td>\n",
       "      <td>F</td>\n",
       "      <td>75</td>\n",
       "      <td>78afa995795e4d85b5d9ceeca43f5fef</td>\n",
       "      <td>20170509</td>\n",
       "      <td>100000.0</td>\n",
       "    </tr>\n",
       "    <tr>\n",
       "      <th>4</th>\n",
       "      <td>4</td>\n",
       "      <td>NaN</td>\n",
       "      <td>118</td>\n",
       "      <td>a03223e636434f42ac4c3df47e8bac43</td>\n",
       "      <td>20170804</td>\n",
       "      <td>NaN</td>\n",
       "    </tr>\n",
       "  </tbody>\n",
       "</table>\n",
       "</div>"
      ],
      "text/plain": [
       "   Unnamed: 0 gender  age                                id  became_member_on  \\\n",
       "0           0    NaN  118  68be06ca386d4c31939f3a4f0e3dd783          20170212   \n",
       "1           1      F   55  0610b486422d4921ae7d2bf64640c50b          20170715   \n",
       "2           2    NaN  118  38fe809add3b4fcf9315a9694bb96ff5          20180712   \n",
       "3           3      F   75  78afa995795e4d85b5d9ceeca43f5fef          20170509   \n",
       "4           4    NaN  118  a03223e636434f42ac4c3df47e8bac43          20170804   \n",
       "\n",
       "     income  \n",
       "0       NaN  \n",
       "1  112000.0  \n",
       "2       NaN  \n",
       "3  100000.0  \n",
       "4       NaN  "
      ]
     },
     "execution_count": 5,
     "metadata": {},
     "output_type": "execute_result"
    }
   ],
   "source": [
    "df_profile=pd.read_csv(\"profile.csv\")\n",
    "df_profile.head()"
   ]
  },
  {
   "cell_type": "code",
   "execution_count": 6,
   "id": "f36ec291",
   "metadata": {},
   "outputs": [
    {
     "name": "stdout",
     "output_type": "stream",
     "text": [
      "<class 'pandas.core.frame.DataFrame'>\n",
      "RangeIndex: 17000 entries, 0 to 16999\n",
      "Data columns (total 6 columns):\n",
      " #   Column            Non-Null Count  Dtype  \n",
      "---  ------            --------------  -----  \n",
      " 0   Unnamed: 0        17000 non-null  int64  \n",
      " 1   gender            14825 non-null  object \n",
      " 2   age               17000 non-null  int64  \n",
      " 3   id                17000 non-null  object \n",
      " 4   became_member_on  17000 non-null  int64  \n",
      " 5   income            14825 non-null  float64\n",
      "dtypes: float64(1), int64(3), object(2)\n",
      "memory usage: 797.0+ KB\n"
     ]
    }
   ],
   "source": [
    "df_profile.info()"
   ]
  },
  {
   "cell_type": "code",
   "execution_count": 7,
   "id": "f3bb6cf0",
   "metadata": {},
   "outputs": [
    {
     "data": {
      "text/html": [
       "<div>\n",
       "<style scoped>\n",
       "    .dataframe tbody tr th:only-of-type {\n",
       "        vertical-align: middle;\n",
       "    }\n",
       "\n",
       "    .dataframe tbody tr th {\n",
       "        vertical-align: top;\n",
       "    }\n",
       "\n",
       "    .dataframe thead th {\n",
       "        text-align: right;\n",
       "    }\n",
       "</style>\n",
       "<table border=\"1\" class=\"dataframe\">\n",
       "  <thead>\n",
       "    <tr style=\"text-align: right;\">\n",
       "      <th></th>\n",
       "      <th>Unnamed: 0</th>\n",
       "      <th>reward</th>\n",
       "      <th>channels</th>\n",
       "      <th>difficulty</th>\n",
       "      <th>duration</th>\n",
       "      <th>offer_type</th>\n",
       "      <th>id</th>\n",
       "    </tr>\n",
       "  </thead>\n",
       "  <tbody>\n",
       "    <tr>\n",
       "      <th>0</th>\n",
       "      <td>0</td>\n",
       "      <td>10</td>\n",
       "      <td>['email', 'mobile', 'social']</td>\n",
       "      <td>10</td>\n",
       "      <td>7</td>\n",
       "      <td>bogo</td>\n",
       "      <td>ae264e3637204a6fb9bb56bc8210ddfd</td>\n",
       "    </tr>\n",
       "    <tr>\n",
       "      <th>1</th>\n",
       "      <td>1</td>\n",
       "      <td>10</td>\n",
       "      <td>['web', 'email', 'mobile', 'social']</td>\n",
       "      <td>10</td>\n",
       "      <td>5</td>\n",
       "      <td>bogo</td>\n",
       "      <td>4d5c57ea9a6940dd891ad53e9dbe8da0</td>\n",
       "    </tr>\n",
       "    <tr>\n",
       "      <th>2</th>\n",
       "      <td>2</td>\n",
       "      <td>0</td>\n",
       "      <td>['web', 'email', 'mobile']</td>\n",
       "      <td>0</td>\n",
       "      <td>4</td>\n",
       "      <td>informational</td>\n",
       "      <td>3f207df678b143eea3cee63160fa8bed</td>\n",
       "    </tr>\n",
       "    <tr>\n",
       "      <th>3</th>\n",
       "      <td>3</td>\n",
       "      <td>5</td>\n",
       "      <td>['web', 'email', 'mobile']</td>\n",
       "      <td>5</td>\n",
       "      <td>7</td>\n",
       "      <td>bogo</td>\n",
       "      <td>9b98b8c7a33c4b65b9aebfe6a799e6d9</td>\n",
       "    </tr>\n",
       "    <tr>\n",
       "      <th>4</th>\n",
       "      <td>4</td>\n",
       "      <td>5</td>\n",
       "      <td>['web', 'email']</td>\n",
       "      <td>20</td>\n",
       "      <td>10</td>\n",
       "      <td>discount</td>\n",
       "      <td>0b1e1539f2cc45b7b9fa7c272da2e1d7</td>\n",
       "    </tr>\n",
       "  </tbody>\n",
       "</table>\n",
       "</div>"
      ],
      "text/plain": [
       "   Unnamed: 0  reward                              channels  difficulty  \\\n",
       "0           0      10         ['email', 'mobile', 'social']          10   \n",
       "1           1      10  ['web', 'email', 'mobile', 'social']          10   \n",
       "2           2       0            ['web', 'email', 'mobile']           0   \n",
       "3           3       5            ['web', 'email', 'mobile']           5   \n",
       "4           4       5                      ['web', 'email']          20   \n",
       "\n",
       "   duration     offer_type                                id  \n",
       "0         7           bogo  ae264e3637204a6fb9bb56bc8210ddfd  \n",
       "1         5           bogo  4d5c57ea9a6940dd891ad53e9dbe8da0  \n",
       "2         4  informational  3f207df678b143eea3cee63160fa8bed  \n",
       "3         7           bogo  9b98b8c7a33c4b65b9aebfe6a799e6d9  \n",
       "4        10       discount  0b1e1539f2cc45b7b9fa7c272da2e1d7  "
      ]
     },
     "execution_count": 7,
     "metadata": {},
     "output_type": "execute_result"
    }
   ],
   "source": [
    "df_portfolio=pd.read_csv(\"portfolio.csv\")\n",
    "df_portfolio.head()"
   ]
  },
  {
   "cell_type": "code",
   "execution_count": 8,
   "id": "630bcfa5",
   "metadata": {},
   "outputs": [
    {
     "name": "stdout",
     "output_type": "stream",
     "text": [
      "<class 'pandas.core.frame.DataFrame'>\n",
      "RangeIndex: 10 entries, 0 to 9\n",
      "Data columns (total 7 columns):\n",
      " #   Column      Non-Null Count  Dtype \n",
      "---  ------      --------------  ----- \n",
      " 0   Unnamed: 0  10 non-null     int64 \n",
      " 1   reward      10 non-null     int64 \n",
      " 2   channels    10 non-null     object\n",
      " 3   difficulty  10 non-null     int64 \n",
      " 4   duration    10 non-null     int64 \n",
      " 5   offer_type  10 non-null     object\n",
      " 6   id          10 non-null     object\n",
      "dtypes: int64(4), object(3)\n",
      "memory usage: 688.0+ bytes\n"
     ]
    }
   ],
   "source": [
    "df_portfolio.info()"
   ]
  },
  {
   "cell_type": "code",
   "execution_count": 9,
   "id": "08d031a0",
   "metadata": {},
   "outputs": [
    {
     "data": {
      "text/html": [
       "<div>\n",
       "<style scoped>\n",
       "    .dataframe tbody tr th:only-of-type {\n",
       "        vertical-align: middle;\n",
       "    }\n",
       "\n",
       "    .dataframe tbody tr th {\n",
       "        vertical-align: top;\n",
       "    }\n",
       "\n",
       "    .dataframe thead th {\n",
       "        text-align: right;\n",
       "    }\n",
       "</style>\n",
       "<table border=\"1\" class=\"dataframe\">\n",
       "  <thead>\n",
       "    <tr style=\"text-align: right;\">\n",
       "      <th></th>\n",
       "      <th>Unnamed: 0</th>\n",
       "      <th>person</th>\n",
       "      <th>event</th>\n",
       "      <th>value</th>\n",
       "      <th>time</th>\n",
       "    </tr>\n",
       "  </thead>\n",
       "  <tbody>\n",
       "    <tr>\n",
       "      <th>0</th>\n",
       "      <td>0</td>\n",
       "      <td>78afa995795e4d85b5d9ceeca43f5fef</td>\n",
       "      <td>offer received</td>\n",
       "      <td>{'offer id': '9b98b8c7a33c4b65b9aebfe6a799e6d9'}</td>\n",
       "      <td>0</td>\n",
       "    </tr>\n",
       "    <tr>\n",
       "      <th>1</th>\n",
       "      <td>1</td>\n",
       "      <td>a03223e636434f42ac4c3df47e8bac43</td>\n",
       "      <td>offer received</td>\n",
       "      <td>{'offer id': '0b1e1539f2cc45b7b9fa7c272da2e1d7'}</td>\n",
       "      <td>0</td>\n",
       "    </tr>\n",
       "    <tr>\n",
       "      <th>2</th>\n",
       "      <td>2</td>\n",
       "      <td>e2127556f4f64592b11af22de27a7932</td>\n",
       "      <td>offer received</td>\n",
       "      <td>{'offer id': '2906b810c7d4411798c6938adc9daaa5'}</td>\n",
       "      <td>0</td>\n",
       "    </tr>\n",
       "    <tr>\n",
       "      <th>3</th>\n",
       "      <td>3</td>\n",
       "      <td>8ec6ce2a7e7949b1bf142def7d0e0586</td>\n",
       "      <td>offer received</td>\n",
       "      <td>{'offer id': 'fafdcd668e3743c1bb461111dcafc2a4'}</td>\n",
       "      <td>0</td>\n",
       "    </tr>\n",
       "    <tr>\n",
       "      <th>4</th>\n",
       "      <td>4</td>\n",
       "      <td>68617ca6246f4fbc85e91a2a49552598</td>\n",
       "      <td>offer received</td>\n",
       "      <td>{'offer id': '4d5c57ea9a6940dd891ad53e9dbe8da0'}</td>\n",
       "      <td>0</td>\n",
       "    </tr>\n",
       "  </tbody>\n",
       "</table>\n",
       "</div>"
      ],
      "text/plain": [
       "   Unnamed: 0                            person           event  \\\n",
       "0           0  78afa995795e4d85b5d9ceeca43f5fef  offer received   \n",
       "1           1  a03223e636434f42ac4c3df47e8bac43  offer received   \n",
       "2           2  e2127556f4f64592b11af22de27a7932  offer received   \n",
       "3           3  8ec6ce2a7e7949b1bf142def7d0e0586  offer received   \n",
       "4           4  68617ca6246f4fbc85e91a2a49552598  offer received   \n",
       "\n",
       "                                              value  time  \n",
       "0  {'offer id': '9b98b8c7a33c4b65b9aebfe6a799e6d9'}     0  \n",
       "1  {'offer id': '0b1e1539f2cc45b7b9fa7c272da2e1d7'}     0  \n",
       "2  {'offer id': '2906b810c7d4411798c6938adc9daaa5'}     0  \n",
       "3  {'offer id': 'fafdcd668e3743c1bb461111dcafc2a4'}     0  \n",
       "4  {'offer id': '4d5c57ea9a6940dd891ad53e9dbe8da0'}     0  "
      ]
     },
     "execution_count": 9,
     "metadata": {},
     "output_type": "execute_result"
    }
   ],
   "source": [
    "df_transcript=pd.read_csv(\"transcript.csv\")\n",
    "df_transcript.head()"
   ]
  },
  {
   "cell_type": "code",
   "execution_count": 10,
   "id": "af039038",
   "metadata": {},
   "outputs": [
    {
     "name": "stdout",
     "output_type": "stream",
     "text": [
      "<class 'pandas.core.frame.DataFrame'>\n",
      "RangeIndex: 306534 entries, 0 to 306533\n",
      "Data columns (total 5 columns):\n",
      " #   Column      Non-Null Count   Dtype \n",
      "---  ------      --------------   ----- \n",
      " 0   Unnamed: 0  306534 non-null  int64 \n",
      " 1   person      306534 non-null  object\n",
      " 2   event       306534 non-null  object\n",
      " 3   value       306534 non-null  object\n",
      " 4   time        306534 non-null  int64 \n",
      "dtypes: int64(2), object(3)\n",
      "memory usage: 11.7+ MB\n"
     ]
    }
   ],
   "source": [
    "df_transcript.info()"
   ]
  },
  {
   "cell_type": "markdown",
   "id": "d7ce1f63",
   "metadata": {},
   "source": [
    "<br>"
   ]
  },
  {
   "cell_type": "markdown",
   "id": "80c72494",
   "metadata": {},
   "source": [
    "**4.1.DATA CLEANING** <a class=\"anchor\" id=\"41-data-cleaning\"></a>"
   ]
  },
  {
   "cell_type": "markdown",
   "id": "fcb13183",
   "metadata": {},
   "source": [
    "Dropping unuseful columns"
   ]
  },
  {
   "cell_type": "code",
   "execution_count": 11,
   "id": "851c9997",
   "metadata": {},
   "outputs": [],
   "source": [
    "df_portfolio = df_portfolio.drop(columns=['Unnamed: 0']).dropna(axis=1)\n",
    "df_profile = df_profile.drop('Unnamed: 0', axis = 1)\n",
    "df_transcript= df_transcript.drop('Unnamed: 0', axis = 1)"
   ]
  },
  {
   "cell_type": "markdown",
   "id": "8ae9c413",
   "metadata": {},
   "source": [
    "Checking for missing values"
   ]
  },
  {
   "cell_type": "code",
   "execution_count": 12,
   "id": "971b4fe5",
   "metadata": {},
   "outputs": [
    {
     "data": {
      "text/plain": [
       "gender              2175\n",
       "age                    0\n",
       "id                     0\n",
       "became_member_on       0\n",
       "income              2175\n",
       "dtype: int64"
      ]
     },
     "execution_count": 12,
     "metadata": {},
     "output_type": "execute_result"
    }
   ],
   "source": [
    "df_profile.isna().sum()"
   ]
  },
  {
   "cell_type": "code",
   "execution_count": 13,
   "id": "46085a5f",
   "metadata": {},
   "outputs": [
    {
     "data": {
      "text/plain": [
       "reward        0\n",
       "channels      0\n",
       "difficulty    0\n",
       "duration      0\n",
       "offer_type    0\n",
       "id            0\n",
       "dtype: int64"
      ]
     },
     "execution_count": 13,
     "metadata": {},
     "output_type": "execute_result"
    }
   ],
   "source": [
    "df_portfolio.isna().sum()"
   ]
  },
  {
   "cell_type": "code",
   "execution_count": 14,
   "id": "88fddcc0",
   "metadata": {},
   "outputs": [
    {
     "data": {
      "text/plain": [
       "person    0\n",
       "event     0\n",
       "value     0\n",
       "time      0\n",
       "dtype: int64"
      ]
     },
     "execution_count": 14,
     "metadata": {},
     "output_type": "execute_result"
    }
   ],
   "source": [
    "df_transcript.isna().sum()"
   ]
  },
  {
   "cell_type": "markdown",
   "id": "fc6e6c8b",
   "metadata": {},
   "source": [
    "<p style=\"color:skyblue; font-size:14px; font-family:Verdana;\">From the above we can see that there are 2175 missing values in gender and income columns. Let us check whether they are from the same rows.</p>"
   ]
  },
  {
   "cell_type": "code",
   "execution_count": 15,
   "id": "9c97dc28",
   "metadata": {},
   "outputs": [
    {
     "data": {
      "text/plain": [
       "2175"
      ]
     },
     "execution_count": 15,
     "metadata": {},
     "output_type": "execute_result"
    }
   ],
   "source": [
    "rows_with_missing_gender = df_profile[df_profile['gender'].isna()]\n",
    "rows_with_missing_income = df_profile[df_profile['income'].isna()]\n",
    "\n",
    "np.sum(rows_with_missing_gender['id'] == rows_with_missing_income['id'])"
   ]
  },
  {
   "cell_type": "markdown",
   "id": "101ad654",
   "metadata": {},
   "source": [
    "<p style=\"color:skyblue; font-size:14px; font-family:Verdana;\">Thus, it is confirmed that both missing gender and missing income values are from the same records, income plays a major role in customer behaviour. Out of 17,000 rows, 2,175 rows account for 12.7%. Removing them is not an ideal option, but replacing them with NaNs or zeroes would skew our analysis. Since, there are enough records for analysis, rows with missing income values can be removed.</p>"
   ]
  },
  {
   "cell_type": "code",
   "execution_count": 16,
   "id": "4ddb74d3",
   "metadata": {},
   "outputs": [
    {
     "name": "stdout",
     "output_type": "stream",
     "text": [
      "<class 'pandas.core.frame.DataFrame'>\n",
      "RangeIndex: 14825 entries, 0 to 14824\n",
      "Data columns (total 5 columns):\n",
      " #   Column            Non-Null Count  Dtype  \n",
      "---  ------            --------------  -----  \n",
      " 0   gender            14825 non-null  object \n",
      " 1   age               14825 non-null  int64  \n",
      " 2   id                14825 non-null  object \n",
      " 3   became_member_on  14825 non-null  int64  \n",
      " 4   income            14825 non-null  float64\n",
      "dtypes: float64(1), int64(2), object(2)\n",
      "memory usage: 579.2+ KB\n",
      "None\n"
     ]
    }
   ],
   "source": [
    "cleaned_profile_data = df_profile.drop(df_profile[df_profile['id'].isin(rows_with_missing_income['id'])].index).reset_index(drop=True)\n",
    "print(cleaned_profile_data.info())"
   ]
  },
  {
   "cell_type": "markdown",
   "id": "ab94a88f",
   "metadata": {},
   "source": [
    "<br>"
   ]
  },
  {
   "cell_type": "markdown",
   "id": "29d5c18b",
   "metadata": {},
   "source": [
    "**4.2.DATA TRANSFORMATION** <a class=\"anchor\" id=\"42-data-transformation\"></a>"
   ]
  },
  {
   "cell_type": "markdown",
   "id": "c2a0ff1e",
   "metadata": {},
   "source": [
    "<p style=\"color:skyblue; font-size:12px; font-family:Verdana;\">Identifying offer types by their lengthy IDs is quite difficult, so let's use short code names to label the different offers.</p>"
   ]
  },
  {
   "cell_type": "code",
   "execution_count": 17,
   "id": "bf6682d3",
   "metadata": {},
   "outputs": [
    {
     "data": {
      "text/html": [
       "<div>\n",
       "<style scoped>\n",
       "    .dataframe tbody tr th:only-of-type {\n",
       "        vertical-align: middle;\n",
       "    }\n",
       "\n",
       "    .dataframe tbody tr th {\n",
       "        vertical-align: top;\n",
       "    }\n",
       "\n",
       "    .dataframe thead th {\n",
       "        text-align: right;\n",
       "    }\n",
       "</style>\n",
       "<table border=\"1\" class=\"dataframe\">\n",
       "  <thead>\n",
       "    <tr style=\"text-align: right;\">\n",
       "      <th></th>\n",
       "      <th>reward</th>\n",
       "      <th>channels</th>\n",
       "      <th>difficulty</th>\n",
       "      <th>duration</th>\n",
       "      <th>offer_type</th>\n",
       "      <th>id</th>\n",
       "      <th>offer_code</th>\n",
       "    </tr>\n",
       "  </thead>\n",
       "  <tbody>\n",
       "    <tr>\n",
       "      <th>0</th>\n",
       "      <td>5</td>\n",
       "      <td>['web', 'email', 'mobile']</td>\n",
       "      <td>5</td>\n",
       "      <td>7</td>\n",
       "      <td>bogo</td>\n",
       "      <td>9b98b8c7a33c4b65b9aebfe6a799e6d9</td>\n",
       "      <td>A</td>\n",
       "    </tr>\n",
       "    <tr>\n",
       "      <th>1</th>\n",
       "      <td>5</td>\n",
       "      <td>['web', 'email', 'mobile', 'social']</td>\n",
       "      <td>5</td>\n",
       "      <td>5</td>\n",
       "      <td>bogo</td>\n",
       "      <td>f19421c1d4aa40978ebb69ca19b0e20d</td>\n",
       "      <td>B</td>\n",
       "    </tr>\n",
       "    <tr>\n",
       "      <th>2</th>\n",
       "      <td>10</td>\n",
       "      <td>['email', 'mobile', 'social']</td>\n",
       "      <td>10</td>\n",
       "      <td>7</td>\n",
       "      <td>bogo</td>\n",
       "      <td>ae264e3637204a6fb9bb56bc8210ddfd</td>\n",
       "      <td>C</td>\n",
       "    </tr>\n",
       "    <tr>\n",
       "      <th>3</th>\n",
       "      <td>10</td>\n",
       "      <td>['web', 'email', 'mobile', 'social']</td>\n",
       "      <td>10</td>\n",
       "      <td>5</td>\n",
       "      <td>bogo</td>\n",
       "      <td>4d5c57ea9a6940dd891ad53e9dbe8da0</td>\n",
       "      <td>D</td>\n",
       "    </tr>\n",
       "    <tr>\n",
       "      <th>4</th>\n",
       "      <td>3</td>\n",
       "      <td>['web', 'email', 'mobile', 'social']</td>\n",
       "      <td>7</td>\n",
       "      <td>7</td>\n",
       "      <td>discount</td>\n",
       "      <td>2298d6c36e964ae4a3e7e9706d1fb8c2</td>\n",
       "      <td>E</td>\n",
       "    </tr>\n",
       "    <tr>\n",
       "      <th>5</th>\n",
       "      <td>2</td>\n",
       "      <td>['web', 'email', 'mobile', 'social']</td>\n",
       "      <td>10</td>\n",
       "      <td>10</td>\n",
       "      <td>discount</td>\n",
       "      <td>fafdcd668e3743c1bb461111dcafc2a4</td>\n",
       "      <td>F</td>\n",
       "    </tr>\n",
       "    <tr>\n",
       "      <th>6</th>\n",
       "      <td>2</td>\n",
       "      <td>['web', 'email', 'mobile']</td>\n",
       "      <td>10</td>\n",
       "      <td>7</td>\n",
       "      <td>discount</td>\n",
       "      <td>2906b810c7d4411798c6938adc9daaa5</td>\n",
       "      <td>G</td>\n",
       "    </tr>\n",
       "    <tr>\n",
       "      <th>7</th>\n",
       "      <td>5</td>\n",
       "      <td>['web', 'email']</td>\n",
       "      <td>20</td>\n",
       "      <td>10</td>\n",
       "      <td>discount</td>\n",
       "      <td>0b1e1539f2cc45b7b9fa7c272da2e1d7</td>\n",
       "      <td>H</td>\n",
       "    </tr>\n",
       "    <tr>\n",
       "      <th>8</th>\n",
       "      <td>0</td>\n",
       "      <td>['web', 'email', 'mobile']</td>\n",
       "      <td>0</td>\n",
       "      <td>4</td>\n",
       "      <td>informational</td>\n",
       "      <td>3f207df678b143eea3cee63160fa8bed</td>\n",
       "      <td>I</td>\n",
       "    </tr>\n",
       "    <tr>\n",
       "      <th>9</th>\n",
       "      <td>0</td>\n",
       "      <td>['email', 'mobile', 'social']</td>\n",
       "      <td>0</td>\n",
       "      <td>3</td>\n",
       "      <td>informational</td>\n",
       "      <td>5a8bc65990b245e5a138643cd4eb9837</td>\n",
       "      <td>J</td>\n",
       "    </tr>\n",
       "  </tbody>\n",
       "</table>\n",
       "</div>"
      ],
      "text/plain": [
       "   reward                              channels  difficulty  duration  \\\n",
       "0       5            ['web', 'email', 'mobile']           5         7   \n",
       "1       5  ['web', 'email', 'mobile', 'social']           5         5   \n",
       "2      10         ['email', 'mobile', 'social']          10         7   \n",
       "3      10  ['web', 'email', 'mobile', 'social']          10         5   \n",
       "4       3  ['web', 'email', 'mobile', 'social']           7         7   \n",
       "5       2  ['web', 'email', 'mobile', 'social']          10        10   \n",
       "6       2            ['web', 'email', 'mobile']          10         7   \n",
       "7       5                      ['web', 'email']          20        10   \n",
       "8       0            ['web', 'email', 'mobile']           0         4   \n",
       "9       0         ['email', 'mobile', 'social']           0         3   \n",
       "\n",
       "      offer_type                                id offer_code  \n",
       "0           bogo  9b98b8c7a33c4b65b9aebfe6a799e6d9          A  \n",
       "1           bogo  f19421c1d4aa40978ebb69ca19b0e20d          B  \n",
       "2           bogo  ae264e3637204a6fb9bb56bc8210ddfd          C  \n",
       "3           bogo  4d5c57ea9a6940dd891ad53e9dbe8da0          D  \n",
       "4       discount  2298d6c36e964ae4a3e7e9706d1fb8c2          E  \n",
       "5       discount  fafdcd668e3743c1bb461111dcafc2a4          F  \n",
       "6       discount  2906b810c7d4411798c6938adc9daaa5          G  \n",
       "7       discount  0b1e1539f2cc45b7b9fa7c272da2e1d7          H  \n",
       "8  informational  3f207df678b143eea3cee63160fa8bed          I  \n",
       "9  informational  5a8bc65990b245e5a138643cd4eb9837          J  "
      ]
     },
     "execution_count": 17,
     "metadata": {},
     "output_type": "execute_result"
    }
   ],
   "source": [
    "# Sort df offers\n",
    "df_portfolio = df_portfolio.sort_values(['offer_type', 'difficulty']).reset_index(drop = True)\n",
    "\n",
    "# Add column `offer_code` for this new Offer Short code Name\n",
    "from string import ascii_uppercase\n",
    "df_portfolio['offer_code'] = [ascii_uppercase[i] for i in range(df_portfolio.shape[0])]\n",
    "df_portfolio"
   ]
  },
  {
   "cell_type": "markdown",
   "id": "f226bd58",
   "metadata": {},
   "source": [
    "<p style=\"color:skyblue; font-size:12px; font-family:Verdana;\">In the transcripts DataFrame, the `value` column contains strings with two values, making it difficult to perform any analysis. Let's first convert it into a dictionary and then extract the keys and values into two separate columns.</p>"
   ]
  },
  {
   "cell_type": "code",
   "execution_count": 18,
   "id": "61ca0af9",
   "metadata": {},
   "outputs": [
    {
     "data": {
      "text/plain": [
       "0    {'offer id': '9b98b8c7a33c4b65b9aebfe6a799e6d9'}\n",
       "1    {'offer id': '0b1e1539f2cc45b7b9fa7c272da2e1d7'}\n",
       "2    {'offer id': '2906b810c7d4411798c6938adc9daaa5'}\n",
       "Name: value, dtype: object"
      ]
     },
     "execution_count": 18,
     "metadata": {},
     "output_type": "execute_result"
    }
   ],
   "source": [
    "# Elements in value_columns are strings. Convert them to dictionaries\n",
    "value_column = df_transcript['value']\n",
    "value_column = value_column.apply(eval)\n",
    "value_column[:3]"
   ]
  },
  {
   "cell_type": "code",
   "execution_count": 19,
   "id": "a4358f85",
   "metadata": {},
   "outputs": [],
   "source": [
    "# Extract the keys and values\n",
    "dictionary_key_column = value_column.apply(lambda x: next(iter(x.keys())))\n",
    "dictionary_value_column = value_column.apply(lambda x: next(iter(x.values())))"
   ]
  },
  {
   "cell_type": "code",
   "execution_count": 20,
   "id": "99d0412c",
   "metadata": {},
   "outputs": [
    {
     "data": {
      "text/html": [
       "<div>\n",
       "<style scoped>\n",
       "    .dataframe tbody tr th:only-of-type {\n",
       "        vertical-align: middle;\n",
       "    }\n",
       "\n",
       "    .dataframe tbody tr th {\n",
       "        vertical-align: top;\n",
       "    }\n",
       "\n",
       "    .dataframe thead th {\n",
       "        text-align: right;\n",
       "    }\n",
       "</style>\n",
       "<table border=\"1\" class=\"dataframe\">\n",
       "  <thead>\n",
       "    <tr style=\"text-align: right;\">\n",
       "      <th></th>\n",
       "      <th>dict_key</th>\n",
       "      <th>dict_value</th>\n",
       "    </tr>\n",
       "  </thead>\n",
       "  <tbody>\n",
       "    <tr>\n",
       "      <th>0</th>\n",
       "      <td>offer id</td>\n",
       "      <td>9b98b8c7a33c4b65b9aebfe6a799e6d9</td>\n",
       "    </tr>\n",
       "    <tr>\n",
       "      <th>1</th>\n",
       "      <td>offer id</td>\n",
       "      <td>0b1e1539f2cc45b7b9fa7c272da2e1d7</td>\n",
       "    </tr>\n",
       "    <tr>\n",
       "      <th>2</th>\n",
       "      <td>offer id</td>\n",
       "      <td>2906b810c7d4411798c6938adc9daaa5</td>\n",
       "    </tr>\n",
       "    <tr>\n",
       "      <th>3</th>\n",
       "      <td>offer id</td>\n",
       "      <td>fafdcd668e3743c1bb461111dcafc2a4</td>\n",
       "    </tr>\n",
       "    <tr>\n",
       "      <th>4</th>\n",
       "      <td>offer id</td>\n",
       "      <td>4d5c57ea9a6940dd891ad53e9dbe8da0</td>\n",
       "    </tr>\n",
       "  </tbody>\n",
       "</table>\n",
       "</div>"
      ],
      "text/plain": [
       "   dict_key                        dict_value\n",
       "0  offer id  9b98b8c7a33c4b65b9aebfe6a799e6d9\n",
       "1  offer id  0b1e1539f2cc45b7b9fa7c272da2e1d7\n",
       "2  offer id  2906b810c7d4411798c6938adc9daaa5\n",
       "3  offer id  fafdcd668e3743c1bb461111dcafc2a4\n",
       "4  offer id  4d5c57ea9a6940dd891ad53e9dbe8da0"
      ]
     },
     "execution_count": 20,
     "metadata": {},
     "output_type": "execute_result"
    }
   ],
   "source": [
    "# Create a df containing the keys and values of the dictionary elements of 'value' column\n",
    "split_column = pd.DataFrame(columns = ['dict_key', 'dict_value'])\n",
    "split_column['dict_key'] = dictionary_key_column\n",
    "split_column['dict_value'] = dictionary_value_column\n",
    "split_column.head(5)"
   ]
  },
  {
   "cell_type": "code",
   "execution_count": 21,
   "id": "6e0ebc31",
   "metadata": {},
   "outputs": [
    {
     "data": {
      "text/html": [
       "<div>\n",
       "<style scoped>\n",
       "    .dataframe tbody tr th:only-of-type {\n",
       "        vertical-align: middle;\n",
       "    }\n",
       "\n",
       "    .dataframe tbody tr th {\n",
       "        vertical-align: top;\n",
       "    }\n",
       "\n",
       "    .dataframe thead th {\n",
       "        text-align: right;\n",
       "    }\n",
       "</style>\n",
       "<table border=\"1\" class=\"dataframe\">\n",
       "  <thead>\n",
       "    <tr style=\"text-align: right;\">\n",
       "      <th></th>\n",
       "      <th>person</th>\n",
       "      <th>event</th>\n",
       "      <th>dict_key</th>\n",
       "      <th>dict_value</th>\n",
       "      <th>time</th>\n",
       "    </tr>\n",
       "  </thead>\n",
       "  <tbody>\n",
       "    <tr>\n",
       "      <th>248515</th>\n",
       "      <td>325401ecec2e4570833f25eafccf16da</td>\n",
       "      <td>offer received</td>\n",
       "      <td>offer id</td>\n",
       "      <td>4d5c57ea9a6940dd891ad53e9dbe8da0</td>\n",
       "      <td>576</td>\n",
       "    </tr>\n",
       "    <tr>\n",
       "      <th>197964</th>\n",
       "      <td>87b78dddf0c6444bb3f435a91fcbe238</td>\n",
       "      <td>transaction</td>\n",
       "      <td>amount</td>\n",
       "      <td>25.53</td>\n",
       "      <td>486</td>\n",
       "    </tr>\n",
       "    <tr>\n",
       "      <th>260198</th>\n",
       "      <td>ac0c7b66570b4ca6897407fa7ec00d10</td>\n",
       "      <td>transaction</td>\n",
       "      <td>amount</td>\n",
       "      <td>25.35</td>\n",
       "      <td>576</td>\n",
       "    </tr>\n",
       "    <tr>\n",
       "      <th>129102</th>\n",
       "      <td>2ec52ca9f97f4feb9b5790ee4e0bce8c</td>\n",
       "      <td>offer viewed</td>\n",
       "      <td>offer id</td>\n",
       "      <td>0b1e1539f2cc45b7b9fa7c272da2e1d7</td>\n",
       "      <td>342</td>\n",
       "    </tr>\n",
       "    <tr>\n",
       "      <th>279626</th>\n",
       "      <td>c78fd6429c624b73aeb2a269d9c15f0a</td>\n",
       "      <td>offer viewed</td>\n",
       "      <td>offer id</td>\n",
       "      <td>2298d6c36e964ae4a3e7e9706d1fb8c2</td>\n",
       "      <td>618</td>\n",
       "    </tr>\n",
       "  </tbody>\n",
       "</table>\n",
       "</div>"
      ],
      "text/plain": [
       "                                  person           event  dict_key  \\\n",
       "248515  325401ecec2e4570833f25eafccf16da  offer received  offer id   \n",
       "197964  87b78dddf0c6444bb3f435a91fcbe238     transaction    amount   \n",
       "260198  ac0c7b66570b4ca6897407fa7ec00d10     transaction    amount   \n",
       "129102  2ec52ca9f97f4feb9b5790ee4e0bce8c    offer viewed  offer id   \n",
       "279626  c78fd6429c624b73aeb2a269d9c15f0a    offer viewed  offer id   \n",
       "\n",
       "                              dict_value  time  \n",
       "248515  4d5c57ea9a6940dd891ad53e9dbe8da0   576  \n",
       "197964                             25.53   486  \n",
       "260198                             25.35   576  \n",
       "129102  0b1e1539f2cc45b7b9fa7c272da2e1d7   342  \n",
       "279626  2298d6c36e964ae4a3e7e9706d1fb8c2   618  "
      ]
     },
     "execution_count": 21,
     "metadata": {},
     "output_type": "execute_result"
    }
   ],
   "source": [
    "# Replacing `value` column with new split columns and then reordering the columns\n",
    "df_transcript_new = df_transcript.drop('value', axis = 1)\n",
    "df_transcript_new = pd.concat([df_transcript_new, split_column], axis = 1)\n",
    "\n",
    "column_names = ['person', 'event', 'dict_key', 'dict_value', 'time']\n",
    "df_transcript_new = df_transcript_new[column_names]\n",
    "df_transcript_new.sample(5)"
   ]
  },
  {
   "cell_type": "markdown",
   "id": "6c90e871",
   "metadata": {},
   "source": [
    "<br><br>"
   ]
  },
  {
   "cell_type": "markdown",
   "id": "825d13cf",
   "metadata": {},
   "source": [
    "**4.3.DATA ANALYSIS**  <a class=\"anchor\" id=\"43-data-analysis\"></a>"
   ]
  },
  {
   "cell_type": "markdown",
   "id": "fc15a361",
   "metadata": {},
   "source": [
    "**4.3.1.Understanding Customer Responses** <a class=\"anchor\" id=\"431-understanding-customer-responses\"></a>"
   ]
  },
  {
   "cell_type": "code",
   "execution_count": 22,
   "id": "746ea7ea",
   "metadata": {},
   "outputs": [],
   "source": [
    "offer_data = df_portfolio.copy()"
   ]
  },
  {
   "cell_type": "code",
   "execution_count": 23,
   "id": "c4024bfe",
   "metadata": {},
   "outputs": [],
   "source": [
    "transcripts = df_transcript_new.copy()"
   ]
  },
  {
   "cell_type": "code",
   "execution_count": 24,
   "id": "8ad2e2d0",
   "metadata": {},
   "outputs": [
    {
     "name": "stdout",
     "output_type": "stream",
     "text": [
      "The minimum and maximum of column days_since_start: 0 and 29\n"
     ]
    }
   ],
   "source": [
    "enhanced_transcripts = transcripts.copy()\n",
    "\n",
    "# Create a new column 'days_since_start' by converting 'time' to days and casting to integer\n",
    "enhanced_transcripts['days_since_start'] = (enhanced_transcripts['time'] / 24).astype('int64')\n",
    "\n",
    "min_days, max_days = enhanced_transcripts['days_since_start'].min(), enhanced_transcripts['days_since_start'].max()\n",
    "print(f'The minimum and maximum of column days_since_start: {min_days} and {max_days}')"
   ]
  },
  {
   "cell_type": "markdown",
   "id": "73d73e40",
   "metadata": {},
   "source": [
    "<p style=\"color:skyblue; font-size:14px; font-family:Verdana;\">This means that the campaign lasted about one month.</p>"
   ]
  },
  {
   "cell_type": "markdown",
   "id": "4445777d",
   "metadata": {},
   "source": [
    "<p style=\"color:pink; font-size:16px;\">Univariate Analysis on Event data</p>"
   ]
  },
  {
   "cell_type": "code",
   "execution_count": 25,
   "id": "bfd12289",
   "metadata": {
    "scrolled": false
   },
   "outputs": [
    {
     "data": {
      "image/png": "[encoded data removed]",
      "text/plain": [
       "<Figure size 600x400 with 1 Axes>"
      ]
     },
     "metadata": {},
     "output_type": "display_data"
    }
   ],
   "source": [
    "# Plotting the event counts\n",
    "fig, ax = plt.subplots(figsize=(6, 4))\n",
    "event_counts = transcripts['event'].value_counts()\n",
    "bars = event_counts.plot(kind='bar', color=sns.color_palette('viridis', len(event_counts)), ax=ax)\n",
    "\n",
    "# Adding counts on top of each bar\n",
    "for bar in bars.patches:\n",
    "    ax.annotate(f'{int(bar.get_height())}', \n",
    "                (bar.get_x() + bar.get_width() / 2, bar.get_height()), \n",
    "                ha='center', va='bottom', fontsize=10, fontweight='bold')\n",
    "\n",
    "# Customizing the x and y labels and title\n",
    "ax.set_xticklabels(event_counts.index, rotation=0, fontsize=10)\n",
    "ax.set_ylabel('Count', fontsize=12)\n",
    "ax.set_title('Event Counts', fontsize=14, fontweight='bold')\n",
    "\n",
    "# Display the plot\n",
    "plt.tight_layout()\n",
    "plt.show()"
   ]
  },
  {
   "cell_type": "markdown",
   "id": "0b941307",
   "metadata": {},
   "source": [
    "<p style=\"color:skyblue; font-size:14px; font-family:Verdana;\">Key Observations:\n",
    "\n",
    "<p style=\"color:skyblue; font-size:14px; font-family:Verdana;\">Transaction Volume: The dataset contains 138,953 transactions, which is more than four times the number of completed offers (33,579). This indicates that a significant portion of customers made multiple purchases without relying on promotional offers. This suggests strong customer loyalty and frequent purchasing behavior, which is expected given Starbucks' product offerings, such as coffee and snacks, that are typically fast-moving consumer goods (FMCG).\n",
    "\n",
    "<p style=\"color:skyblue; font-size:14px; font-family:Verdana;\">Offer Engagement: Throughout the campaign, customers received a total of 76,277 offers. Of these, 76% (57,725) were viewed, showing a substantial engagement rate. This suggests that the promotional materials were effective in capturing customers' attention, possibly due to compelling slogans or well-targeted messaging.\n",
    "\n",
    "<p style=\"color:skyblue; font-size:14px; font-family:Verdana;\">Offer Completion: The campaign saw 33,579 offers completed, representing 58% of viewed offers and 44% of all offers distributed. This relatively high completion rate indicates strong customer participation and suggests that the offers were appealing enough to encourage action. It also hints at the presence of a loyal customer base that frequently engages with Starbucks' promotions.</p>"
   ]
  },
  {
   "cell_type": "markdown",
   "id": "55c74004",
   "metadata": {},
   "source": [
    "**  **"
   ]
  },
  {
   "cell_type": "code",
   "execution_count": 26,
   "id": "7750c204",
   "metadata": {},
   "outputs": [
    {
     "data": {
      "text/html": [
       "<div>\n",
       "<style scoped>\n",
       "    .dataframe tbody tr th:only-of-type {\n",
       "        vertical-align: middle;\n",
       "    }\n",
       "\n",
       "    .dataframe tbody tr th {\n",
       "        vertical-align: top;\n",
       "    }\n",
       "\n",
       "    .dataframe thead th {\n",
       "        text-align: right;\n",
       "    }\n",
       "</style>\n",
       "<table border=\"1\" class=\"dataframe\">\n",
       "  <thead>\n",
       "    <tr style=\"text-align: right;\">\n",
       "      <th></th>\n",
       "      <th>person</th>\n",
       "      <th>event</th>\n",
       "      <th>dict_key</th>\n",
       "      <th>dict_value</th>\n",
       "      <th>time</th>\n",
       "      <th>reward</th>\n",
       "      <th>channels</th>\n",
       "      <th>difficulty</th>\n",
       "      <th>duration</th>\n",
       "      <th>offer_type</th>\n",
       "      <th>offer_code</th>\n",
       "    </tr>\n",
       "  </thead>\n",
       "  <tbody>\n",
       "    <tr>\n",
       "      <th>21417</th>\n",
       "      <td>ab20ddf6d8b24c55822249e4353dc1b6</td>\n",
       "      <td>offer received</td>\n",
       "      <td>offer id</td>\n",
       "      <td>0b1e1539f2cc45b7b9fa7c272da2e1d7</td>\n",
       "      <td>336</td>\n",
       "      <td>5</td>\n",
       "      <td>['web', 'email']</td>\n",
       "      <td>20</td>\n",
       "      <td>10</td>\n",
       "      <td>discount</td>\n",
       "      <td>H</td>\n",
       "    </tr>\n",
       "    <tr>\n",
       "      <th>1059</th>\n",
       "      <td>28729ac457114d80bbb5854231e97fb5</td>\n",
       "      <td>offer received</td>\n",
       "      <td>offer id</td>\n",
       "      <td>9b98b8c7a33c4b65b9aebfe6a799e6d9</td>\n",
       "      <td>0</td>\n",
       "      <td>5</td>\n",
       "      <td>['web', 'email', 'mobile']</td>\n",
       "      <td>5</td>\n",
       "      <td>7</td>\n",
       "      <td>bogo</td>\n",
       "      <td>A</td>\n",
       "    </tr>\n",
       "    <tr>\n",
       "      <th>20765</th>\n",
       "      <td>2c49fcc99b194fbd98c68f159a01da87</td>\n",
       "      <td>offer received</td>\n",
       "      <td>offer id</td>\n",
       "      <td>0b1e1539f2cc45b7b9fa7c272da2e1d7</td>\n",
       "      <td>336</td>\n",
       "      <td>5</td>\n",
       "      <td>['web', 'email']</td>\n",
       "      <td>20</td>\n",
       "      <td>10</td>\n",
       "      <td>discount</td>\n",
       "      <td>H</td>\n",
       "    </tr>\n",
       "  </tbody>\n",
       "</table>\n",
       "</div>"
      ],
      "text/plain": [
       "                                 person           event  dict_key  \\\n",
       "21417  ab20ddf6d8b24c55822249e4353dc1b6  offer received  offer id   \n",
       "1059   28729ac457114d80bbb5854231e97fb5  offer received  offer id   \n",
       "20765  2c49fcc99b194fbd98c68f159a01da87  offer received  offer id   \n",
       "\n",
       "                             dict_value  time  reward  \\\n",
       "21417  0b1e1539f2cc45b7b9fa7c272da2e1d7   336       5   \n",
       "1059   9b98b8c7a33c4b65b9aebfe6a799e6d9     0       5   \n",
       "20765  0b1e1539f2cc45b7b9fa7c272da2e1d7   336       5   \n",
       "\n",
       "                         channels  difficulty  duration offer_type offer_code  \n",
       "21417            ['web', 'email']          20        10   discount          H  \n",
       "1059   ['web', 'email', 'mobile']           5         7       bogo          A  \n",
       "20765            ['web', 'email']          20        10   discount          H  "
      ]
     },
     "execution_count": 26,
     "metadata": {},
     "output_type": "execute_result"
    }
   ],
   "source": [
    "# Filter out transactions to create a DataFrame containing only offer-related events\n",
    "df_event = transcripts[transcripts['event'] != 'transaction']\n",
    "\n",
    "# Merge df_event with offer_data on the 'dict_value' column from df_event and 'id' column from offer_data\n",
    "offer_event_data = pd.merge(df_event, offer_data, left_on='dict_value', right_on='id').drop(columns='id')\n",
    "offer_event_data.sample(3)"
   ]
  },
  {
   "cell_type": "code",
   "execution_count": 27,
   "id": "aa61afb2",
   "metadata": {},
   "outputs": [
    {
     "data": {
      "text/html": [
       "<div>\n",
       "<style scoped>\n",
       "    .dataframe tbody tr th:only-of-type {\n",
       "        vertical-align: middle;\n",
       "    }\n",
       "\n",
       "    .dataframe tbody tr th {\n",
       "        vertical-align: top;\n",
       "    }\n",
       "\n",
       "    .dataframe thead th {\n",
       "        text-align: right;\n",
       "    }\n",
       "</style>\n",
       "<table border=\"1\" class=\"dataframe\">\n",
       "  <thead>\n",
       "    <tr style=\"text-align: right;\">\n",
       "      <th></th>\n",
       "      <th>person</th>\n",
       "      <th>event</th>\n",
       "      <th>offer_code</th>\n",
       "      <th>reward</th>\n",
       "      <th>channels</th>\n",
       "      <th>difficulty</th>\n",
       "      <th>duration</th>\n",
       "      <th>offer_type</th>\n",
       "      <th>time</th>\n",
       "    </tr>\n",
       "  </thead>\n",
       "  <tbody>\n",
       "    <tr>\n",
       "      <th>105015</th>\n",
       "      <td>5b36a2e916bd41ed8e708384df094e77</td>\n",
       "      <td>offer viewed</td>\n",
       "      <td>E</td>\n",
       "      <td>3</td>\n",
       "      <td>['web', 'email', 'mobile', 'social']</td>\n",
       "      <td>7</td>\n",
       "      <td>7</td>\n",
       "      <td>discount</td>\n",
       "      <td>6</td>\n",
       "    </tr>\n",
       "    <tr>\n",
       "      <th>128609</th>\n",
       "      <td>6a0b499af13647149bb1b7ac322a5f50</td>\n",
       "      <td>offer received</td>\n",
       "      <td>I</td>\n",
       "      <td>0</td>\n",
       "      <td>['web', 'email', 'mobile']</td>\n",
       "      <td>0</td>\n",
       "      <td>4</td>\n",
       "      <td>informational</td>\n",
       "      <td>336</td>\n",
       "    </tr>\n",
       "    <tr>\n",
       "      <th>12967</th>\n",
       "      <td>46bff6d3b8fb462880a0d476c3945c33</td>\n",
       "      <td>offer viewed</td>\n",
       "      <td>A</td>\n",
       "      <td>5</td>\n",
       "      <td>['web', 'email', 'mobile']</td>\n",
       "      <td>5</td>\n",
       "      <td>7</td>\n",
       "      <td>bogo</td>\n",
       "      <td>564</td>\n",
       "    </tr>\n",
       "  </tbody>\n",
       "</table>\n",
       "</div>"
      ],
      "text/plain": [
       "                                  person           event offer_code  reward  \\\n",
       "105015  5b36a2e916bd41ed8e708384df094e77    offer viewed          E       3   \n",
       "128609  6a0b499af13647149bb1b7ac322a5f50  offer received          I       0   \n",
       "12967   46bff6d3b8fb462880a0d476c3945c33    offer viewed          A       5   \n",
       "\n",
       "                                    channels  difficulty  duration  \\\n",
       "105015  ['web', 'email', 'mobile', 'social']           7         7   \n",
       "128609            ['web', 'email', 'mobile']           0         4   \n",
       "12967             ['web', 'email', 'mobile']           5         7   \n",
       "\n",
       "           offer_type  time  \n",
       "105015       discount     6  \n",
       "128609  informational   336  \n",
       "12967            bogo   564  "
      ]
     },
     "execution_count": 27,
     "metadata": {},
     "output_type": "execute_result"
    }
   ],
   "source": [
    "# Define the new column order\n",
    "column_order = ['person', 'event', 'offer_code', 'reward',\n",
    "                    'channels', 'difficulty', 'duration', \n",
    "                    'offer_type', 'time', 'dict_key']\n",
    "\n",
    "# Reorder the columns in the DataFrame\n",
    "offer_event_data = offer_event_data[column_order]\n",
    "\n",
    "# Drop the 'dict_key' column\n",
    "offer_event_data = offer_event_data.drop(columns='dict_key')\n",
    "\n",
    "# Display a random sample of 3 rows from the DataFrame\n",
    "offer_event_data.sample(3)"
   ]
  },
  {
   "cell_type": "markdown",
   "id": "c27a0dce",
   "metadata": {},
   "source": [
    "<p style=\"color:pink; font-size:16px;\">Finding overall completion rate and view rate of the offers</p>"
   ]
  },
  {
   "cell_type": "code",
   "execution_count": 28,
   "id": "8cbe104f",
   "metadata": {},
   "outputs": [
    {
     "data": {
      "image/png": "[encoded data removed]",
      "text/plain": [
       "<Figure size 2000x600 with 2 Axes>"
      ]
     },
     "metadata": {},
     "output_type": "display_data"
    }
   ],
   "source": [
    "# Filter events where the offer was received\n",
    "offers_received = offer_event_data.query('event == \"offer received\"')\n",
    "received_counts = offers_received['offer_code'].value_counts().sort_values(ascending=False)\n",
    "\n",
    "# Filter events where the offer was completed\n",
    "offers_completed = offer_event_data.query('event == \"offer completed\"')\n",
    "completed_counts = offers_completed['offer_code'].value_counts().sort_values(ascending=False)\n",
    "\n",
    "# Filter events where the offer was viewed\n",
    "offers_viewed = offer_event_data.query('event == \"offer viewed\"')\n",
    "viewed_counts = offers_viewed['offer_code'].value_counts().sort_values(ascending=False)\n",
    "\n",
    "# Calculate overall completion rate for each offer\n",
    "overall_completion_rate = (completed_counts.sort_index() / received_counts.sort_index()).sort_values(ascending=False)\n",
    "\n",
    "# Calculate view rate for each offer\n",
    "view_rate = (viewed_counts.sort_index() / received_counts.sort_index()).sort_values(ascending=False)\n",
    "\n",
    "# Create a figure with 2 subplots arranged horizontally\n",
    "fig, axes = plt.subplots(1, 2, figsize=(20, 6))\n",
    "\n",
    "# Plot overall completion rate\n",
    "cmap = plt.get_cmap('Blues_r')\n",
    "n = len(overall_completion_rate)\n",
    "colors = cmap(np.linspace(0.3, 0.8, n))\n",
    "axes[0].bar(x=overall_completion_rate.index, height=overall_completion_rate.values, color=colors)\n",
    "axes[0].set_title('Overall Completion Rate %', fontsize=18)\n",
    "axes[0].set_xlabel('Offer', fontsize=15)\n",
    "axes[0].set_ylabel('Percentage', fontsize=15)\n",
    "axes[0].set_yticks(np.arange(0, 1.2, 0.2))\n",
    "axes[0].set_yticklabels(['0%', '20%', '40%', '60%', '80%', '100%'])\n",
    "\n",
    "# Plot view rate\n",
    "cmap = plt.get_cmap('Purples_r')\n",
    "n = len(view_rate)\n",
    "colors = cmap(np.linspace(0.3, 0.8, n))\n",
    "axes[1].bar(x=np.arange(len(view_rate)), height=view_rate.values, tick_label=view_rate.index.values, color=colors)\n",
    "axes[1].set_title('View Rate %', fontsize=18)\n",
    "axes[1].set_xlabel('Offer', fontsize=15)\n",
    "axes[1].set_ylabel('Percentage', fontsize=15)\n",
    "axes[1].set_yticks(np.arange(0, 1.2, 0.2))\n",
    "axes[1].set_yticklabels(['0%', '20%', '40%', '60%', '80%', '100%'])\n",
    "\n",
    "plt.tight_layout()\n",
    "plt.show()\n"
   ]
  },
  {
   "cell_type": "markdown",
   "id": "e2fca69a",
   "metadata": {},
   "source": [
    "<p style=\"color:skyblue; font-size:14px; font-family:Verdana;\">Key Observations: \n",
    "\n",
    "<p style=\"color:skyblue; font-size:14px; font-family:Verdana;\">1. Top-Performing Offers: The most successful offers were Offer F, Offer E, and Offer B, which saw overall completion rates of 70%, 68%, and 56%, respectively. This indicates that these offers resonated well with customers, driving significant engagement and completion.\n",
    "\n",
    "<p style=\"color:skyblue; font-size:14px; font-family:Verdana;\">2. Least Popular Offer: Offer D had the lowest performance, with a completion rate of approximately 44%. This suggests that this particular offer may not have been as appealing or relevant to customers, resulting in lower engagement compared to other promotions.\n",
    "\n",
    "<p style=\"color:skyblue; font-size:14px; font-family:Verdana;\">3.  In the view rate plot we can clearly observe that there are 4 different levels in height, seperating the offers into four groups.\n",
    "\n",
    "<p style=\"color:skyblue; font-size:14px; font-family:Verdana;\">4.  Offers that achieved a high completion rate do not necessarily have a high view rate."
   ]
  },
  {
   "cell_type": "markdown",
   "id": "eddc2a44",
   "metadata": {},
   "source": [
    "<p style=\"color:skyblue; font-size:14px; font-family:Verdana;\">Note: Offers I and J are informational so they do not have an event offer_completed</p>"
   ]
  },
  {
   "cell_type": "markdown",
   "id": "30eb8cf4",
   "metadata": {},
   "source": [
    "<br>"
   ]
  },
  {
   "cell_type": "markdown",
   "id": "77e99fd1",
   "metadata": {},
   "source": [
    "**4.3.2.Identifying influencing factors** <a class=\"anchor\" id=\"432-identifying-influencing-factors\"></a>"
   ]
  },
  {
   "cell_type": "markdown",
   "id": "4664e979",
   "metadata": {},
   "source": [
    "<p style=\"color:pink; font-size:16px;\">Univariate Analysis on channels"
   ]
  },
  {
   "cell_type": "code",
   "execution_count": 29,
   "id": "4c28662d",
   "metadata": {},
   "outputs": [
    {
     "data": {
      "image/png": "[encoded data removed]",
      "text/plain": [
       "<Figure size 1000x300 with 1 Axes>"
      ]
     },
     "metadata": {},
     "output_type": "display_data"
    }
   ],
   "source": [
    "# Compute the counts for channels \n",
    "channel_counts = offer_data['channels'].value_counts()\n",
    "\n",
    "# Set up the figure and axis\n",
    "plt.figure(figsize=(10, 3))\n",
    "\n",
    "# Create the bar plot with a different color palette\n",
    "sns.barplot(x=channel_counts.index, y=channel_counts.values, palette='coolwarm')\n",
    "\n",
    "# Customize the x and y ticks\n",
    "plt.xticks(rotation=0, fontsize=10)\n",
    "plt.yticks(fontsize=10)\n",
    "\n",
    "# Label the axes and the title\n",
    "plt.xlabel('Channels', fontsize=10, fontweight='bold')\n",
    "plt.ylabel('Count', fontsize=10, fontweight='bold')\n",
    "plt.title('Promotion Channel', fontsize=12, fontweight='bold')\n",
    "\n",
    "\n",
    "# Display the plot\n",
    "plt.show()\n"
   ]
  },
  {
   "cell_type": "markdown",
   "id": "e7a25f72",
   "metadata": {},
   "source": [
    "<p style=\"color:skyblue; font-size:14px; font-family:Verdana;\">A significant insight is revealed here: the four distinct levels observed in the view rate plot align with four different combinations of channels used for sending offers.</p>\n",
    "\n",
    "<p style=\"color:skyblue; font-size:14px; font-family:Verdana;\">- Group 1(Offers F, D, E, B): This group utilized a combination of email, mobile, social media, and web platforms, achieving the highest view rate of approximately 96%.</p>\n",
    "<p style=\"color:skyblue; font-size:14px; font-family:Verdana;\">-Group 2(Offers J, C): These offers were promoted via email, mobile, and social media platforms, resulting in a view rate of 90%.</p>\n",
    "<p style=\"color:skyblue; font-size:14px; font-family:Verdana;\">-Group 3(Offers I, A, G): This group used email, mobile, and web platforms, with a view rate of 55%.</p>\n",
    "\n",
    "<p style=\"color:skyblue; font-size:14px; font-family:Verdana;\">-Group 4(Offer H): This offer relied on email and web platforms, leading to a view rate of 36%.</p>\n",
    "\n",
    "<p style=\"color:skyblue; font-size:14px; font-family:Verdana;\">From this analysis, we can conclude that the effectiveness of promotional channels, in terms of view rate, follows the order:</p>  \n",
    "<p style=\"color:pink; font-size:16px; font-family:Verdana;\">Social Media > Email >= Mobile > Websites.</p>\n"
   ]
  },
  {
   "cell_type": "code",
   "execution_count": 30,
   "id": "1c7b63a4",
   "metadata": {},
   "outputs": [],
   "source": [
    "# Create a new df to hold the relavent variables of offers\n",
    "offers_with_rates = offer_data.assign(view_rate = view_rate.sort_index().values,\n",
    "                            complete_rate = overall_completion_rate.sort_index().values)"
   ]
  },
  {
   "cell_type": "code",
   "execution_count": 31,
   "id": "cc5f7a4a",
   "metadata": {},
   "outputs": [],
   "source": [
    "# Set `offer_alias` as index\n",
    "offers_with_rates.set_index('offer_code', inplace = True)"
   ]
  },
  {
   "cell_type": "code",
   "execution_count": 32,
   "id": "1842bca9",
   "metadata": {},
   "outputs": [
    {
     "data": {
      "text/html": [
       "<div>\n",
       "<style scoped>\n",
       "    .dataframe tbody tr th:only-of-type {\n",
       "        vertical-align: middle;\n",
       "    }\n",
       "\n",
       "    .dataframe tbody tr th {\n",
       "        vertical-align: top;\n",
       "    }\n",
       "\n",
       "    .dataframe thead th {\n",
       "        text-align: right;\n",
       "    }\n",
       "</style>\n",
       "<table border=\"1\" class=\"dataframe\">\n",
       "  <thead>\n",
       "    <tr style=\"text-align: right;\">\n",
       "      <th></th>\n",
       "      <th>reward</th>\n",
       "      <th>difficulty</th>\n",
       "      <th>duration</th>\n",
       "      <th>offer_type</th>\n",
       "      <th>view_rate</th>\n",
       "      <th>complete_rate</th>\n",
       "    </tr>\n",
       "    <tr>\n",
       "      <th>offer_code</th>\n",
       "      <th></th>\n",
       "      <th></th>\n",
       "      <th></th>\n",
       "      <th></th>\n",
       "      <th></th>\n",
       "      <th></th>\n",
       "    </tr>\n",
       "  </thead>\n",
       "  <tbody>\n",
       "    <tr>\n",
       "      <th>A</th>\n",
       "      <td>5</td>\n",
       "      <td>5</td>\n",
       "      <td>7</td>\n",
       "      <td>bogo</td>\n",
       "      <td>0.543311</td>\n",
       "      <td>0.567149</td>\n",
       "    </tr>\n",
       "    <tr>\n",
       "      <th>B</th>\n",
       "      <td>5</td>\n",
       "      <td>5</td>\n",
       "      <td>5</td>\n",
       "      <td>bogo</td>\n",
       "      <td>0.959451</td>\n",
       "      <td>0.567428</td>\n",
       "    </tr>\n",
       "    <tr>\n",
       "      <th>C</th>\n",
       "      <td>10</td>\n",
       "      <td>10</td>\n",
       "      <td>7</td>\n",
       "      <td>bogo</td>\n",
       "      <td>0.876991</td>\n",
       "      <td>0.481588</td>\n",
       "    </tr>\n",
       "    <tr>\n",
       "      <th>D</th>\n",
       "      <td>10</td>\n",
       "      <td>10</td>\n",
       "      <td>5</td>\n",
       "      <td>bogo</td>\n",
       "      <td>0.961148</td>\n",
       "      <td>0.438694</td>\n",
       "    </tr>\n",
       "    <tr>\n",
       "      <th>E</th>\n",
       "      <td>3</td>\n",
       "      <td>7</td>\n",
       "      <td>7</td>\n",
       "      <td>discount</td>\n",
       "      <td>0.959587</td>\n",
       "      <td>0.674340</td>\n",
       "    </tr>\n",
       "    <tr>\n",
       "      <th>F</th>\n",
       "      <td>2</td>\n",
       "      <td>10</td>\n",
       "      <td>10</td>\n",
       "      <td>discount</td>\n",
       "      <td>0.964460</td>\n",
       "      <td>0.699882</td>\n",
       "    </tr>\n",
       "    <tr>\n",
       "      <th>G</th>\n",
       "      <td>2</td>\n",
       "      <td>10</td>\n",
       "      <td>7</td>\n",
       "      <td>discount</td>\n",
       "      <td>0.539570</td>\n",
       "      <td>0.526336</td>\n",
       "    </tr>\n",
       "    <tr>\n",
       "      <th>H</th>\n",
       "      <td>5</td>\n",
       "      <td>20</td>\n",
       "      <td>10</td>\n",
       "      <td>discount</td>\n",
       "      <td>0.347287</td>\n",
       "      <td>0.446009</td>\n",
       "    </tr>\n",
       "    <tr>\n",
       "      <th>I</th>\n",
       "      <td>0</td>\n",
       "      <td>0</td>\n",
       "      <td>4</td>\n",
       "      <td>informational</td>\n",
       "      <td>0.544046</td>\n",
       "      <td>NaN</td>\n",
       "    </tr>\n",
       "    <tr>\n",
       "      <th>J</th>\n",
       "      <td>0</td>\n",
       "      <td>0</td>\n",
       "      <td>3</td>\n",
       "      <td>informational</td>\n",
       "      <td>0.877789</td>\n",
       "      <td>NaN</td>\n",
       "    </tr>\n",
       "  </tbody>\n",
       "</table>\n",
       "</div>"
      ],
      "text/plain": [
       "            reward  difficulty  duration     offer_type  view_rate  \\\n",
       "offer_code                                                           \n",
       "A                5           5         7           bogo   0.543311   \n",
       "B                5           5         5           bogo   0.959451   \n",
       "C               10          10         7           bogo   0.876991   \n",
       "D               10          10         5           bogo   0.961148   \n",
       "E                3           7         7       discount   0.959587   \n",
       "F                2          10        10       discount   0.964460   \n",
       "G                2          10         7       discount   0.539570   \n",
       "H                5          20        10       discount   0.347287   \n",
       "I                0           0         4  informational   0.544046   \n",
       "J                0           0         3  informational   0.877789   \n",
       "\n",
       "            complete_rate  \n",
       "offer_code                 \n",
       "A                0.567149  \n",
       "B                0.567428  \n",
       "C                0.481588  \n",
       "D                0.438694  \n",
       "E                0.674340  \n",
       "F                0.699882  \n",
       "G                0.526336  \n",
       "H                0.446009  \n",
       "I                     NaN  \n",
       "J                     NaN  "
      ]
     },
     "execution_count": 32,
     "metadata": {},
     "output_type": "execute_result"
    }
   ],
   "source": [
    "# Derive numeric columns, offer_type from offers_with_rates table to identify their effects on offer completion and view rate\n",
    "offers_stats = offers_with_rates[['reward', 'difficulty', 'duration', 'offer_type', 'view_rate', 'complete_rate']]\n",
    "offers_stats"
   ]
  },
  {
   "cell_type": "markdown",
   "id": "3bfbd6e2",
   "metadata": {},
   "source": [
    "<p style=\"color:skyblue; font-size:14px; font-family:Verdana;\">Key Insights</p>\n",
    "<p style=\"color:skyblue; font-size:14px; font-family:Verdana;\">1.  It is evident that the offers with the highest completion rates, F and E, are discount offers.</p>\n",
    "<p style=\"color:skyblue; font-size:14px; font-family:Verdana;\">2.  Despite having a good view rate, Offers C and D, which are \"Buy One Get One\" deals, show lower completion rates, suggesting that customers may not favor this type of promotion.</p>\n",
    "<p style=\"color:skyblue; font-size:14px; font-family:Verdana;\">3.  Offers B and A, also \"Buy One Get One\" deals, maintain respectable completion rates. Their lower difficulty level seems to positively impact their performance.</p>\n",
    "<p style=\"color:skyblue; font-size:14px; font-family:Verdana;\">4.  Overall, the duration of an offer appears to positively influence its completion rate.</p>\n",
    "<p style=\"color:skyblue; font-size:14px; font-family:Verdana;\">5.  The reward size does not seem to significantly affect the completion rate.</p>"
   ]
  },
  {
   "cell_type": "markdown",
   "id": "85505b5f",
   "metadata": {},
   "source": [
    "<br>"
   ]
  },
  {
   "cell_type": "markdown",
   "id": "7a5b35d0",
   "metadata": {},
   "source": [
    "**4.3.3.Customer Demographics Analysis**  <a class=\"anchor\" id=\"433-customer-demographics-analysis\"></a>"
   ]
  },
  {
   "cell_type": "code",
   "execution_count": 33,
   "id": "729c2734",
   "metadata": {},
   "outputs": [],
   "source": [
    "customers = cleaned_profile_data.copy()"
   ]
  },
  {
   "cell_type": "markdown",
   "id": "4cfe3172",
   "metadata": {},
   "source": [
    "<p style=\"color:pink; font-size:16px;\">Conducting univariate analysis on gender,age of customers"
   ]
  },
  {
   "cell_type": "code",
   "execution_count": 34,
   "id": "fe9f00c8",
   "metadata": {},
   "outputs": [
    {
     "data": {
      "image/png": "[encoded data removed]",
      "text/plain": [
       "<Figure size 600x300 with 1 Axes>"
      ]
     },
     "metadata": {},
     "output_type": "display_data"
    }
   ],
   "source": [
    "# Conducting univariate analysis on gender of customers\n",
    "gender_counts = customers['gender'].value_counts()\n",
    "gender_labels = gender_counts.index\n",
    "\n",
    "plt.figure(figsize=(6,3))\n",
    "plt.pie(gender_counts, labels=gender_labels, colors=sns.color_palette('pastel'),\n",
    "        autopct='%1.1f%%', startangle=140, wedgeprops=dict(width=0.5))\n",
    "\n",
    "plt.title('Gender Distribution', fontsize=15)\n",
    "plt.gca().set_aspect('equal')  # Equal aspect ratio ensures the pie is drawn as a circle.\n",
    "plt.show()\n"
   ]
  },
  {
   "cell_type": "markdown",
   "id": "3b367775",
   "metadata": {},
   "source": [
    "<p style=\"color:skyblue; font-size:14px; font-family:Verdana;\">There are more males(57.2 %) compared to females(41.3 %) and a small percentage of other gender(1.4 %)"
   ]
  },
  {
   "cell_type": "code",
   "execution_count": 35,
   "id": "a401501c",
   "metadata": {},
   "outputs": [
    {
     "name": "stdout",
     "output_type": "stream",
     "text": [
      "count    14825.000000\n",
      "mean        54.393524\n",
      "std         17.383705\n",
      "min         18.000000\n",
      "25%         42.000000\n",
      "50%         55.000000\n",
      "75%         66.000000\n",
      "max        101.000000\n",
      "Name: age, dtype: float64\n"
     ]
    }
   ],
   "source": [
    "# Displaying the descriptive statistics of age\n",
    "print(customers['age'].describe())"
   ]
  },
  {
   "cell_type": "code",
   "execution_count": 36,
   "id": "b71f2173",
   "metadata": {},
   "outputs": [
    {
     "name": "stdout",
     "output_type": "stream",
     "text": [
      "count     14825.000000\n",
      "mean      65404.991568\n",
      "std       21598.299410\n",
      "min       30000.000000\n",
      "25%       49000.000000\n",
      "50%       64000.000000\n",
      "75%       80000.000000\n",
      "max      120000.000000\n",
      "Name: income, dtype: float64\n"
     ]
    }
   ],
   "source": [
    "# Displaying the descriptive statistics of income\n",
    "print(customers['income'].describe())"
   ]
  },
  {
   "cell_type": "code",
   "execution_count": 37,
   "id": "c53e80e1",
   "metadata": {},
   "outputs": [
    {
     "data": {
      "image/png": "[encoded data removed]",
      "text/plain": [
       "<Figure size 2000x500 with 2 Axes>"
      ]
     },
     "metadata": {},
     "output_type": "display_data"
    }
   ],
   "source": [
    "# Create a figure with 2 subplots arranged horizontally\n",
    "fig, axes = plt.subplots(1, 2, figsize=(20, 5))\n",
    "\n",
    "# Plot KDE with histogram to show count for Age\n",
    "sns.histplot(x='age', data=customers, kde=True, color='skyblue', bins=30, ax=axes[0])\n",
    "axes[0].set_xlabel('Age', fontsize=14)\n",
    "axes[0].set_ylabel('Count', fontsize=15)\n",
    "axes[0].set_title('Age Distribution with KDE', fontsize=16)\n",
    "\n",
    "# Plot KDE with histogram to show count for Income\n",
    "sns.histplot(x='income', data=customers, kde=True, color='lightgreen', bins=30, ax=axes[1])\n",
    "axes[1].set_xlabel('Income', fontsize=15)\n",
    "axes[1].set_ylabel('Count', fontsize=15)\n",
    "axes[1].set_title('Income Distribution with KDE', fontsize=16)\n",
    "\n",
    "plt.tight_layout()\n",
    "plt.show()"
   ]
  },
  {
   "cell_type": "markdown",
   "id": "74d464f2",
   "metadata": {},
   "source": [
    "<p style=\"color:pink; font-size:16px;\">Dividing customers into age groups"
   ]
  },
  {
   "cell_type": "code",
   "execution_count": 38,
   "id": "79549676",
   "metadata": {},
   "outputs": [
    {
     "data": {
      "image/png": "[encoded data removed]",
      "text/plain": [
       "<Figure size 600x400 with 1 Axes>"
      ]
     },
     "metadata": {},
     "output_type": "display_data"
    }
   ],
   "source": [
    "# Create a new column `age_group`\n",
    "customers = cleaned_profile_data.copy()\n",
    "\n",
    "# Create a new column `age_group` using pd.cut\n",
    "bins = [customers['age'].min(), 30, 40, 50, 60, 70, 80, customers['age'].max()]\n",
    "labels = ['18-30yrs', '30-40yrs', '40-50yrs', '50-60yrs', '60-70yrs', '70-80yrs', '> 80yrs']\n",
    "customers['age_group'] = pd.cut(customers['age'], bins=bins, labels=labels)\n",
    "\n",
    "# Visualize customers by age groups\n",
    "age_group_percentage = (customers['age_group'].value_counts(normalize=True).sort_index() * 100).round(1)\n",
    "fig, ax = plt.subplots(figsize=(6, 4))\n",
    "\n",
    "colors = sns.color_palette('pastel')\n",
    "age_group_percentage.plot(kind='bar', ax=ax, color=colors)\n",
    "\n",
    "yticks = np.arange(0, 30, 5)\n",
    "yticklabels = [str(y) + '%' for y in yticks]\n",
    "ax.set_yticks(yticks)\n",
    "ax.set_yticklabels(yticklabels, fontsize=10)\n",
    "ax.set_xticklabels(age_group_percentage.index, rotation=45, fontsize=12)\n",
    "ax.set_xlabel('Age', fontsize=14)\n",
    "ax.set_ylabel('Percentage %', fontsize=14)\n",
    "ax.set_title('Age Distribution', fontsize=16)\n",
    "\n",
    "# Display percentage on top of bars\n",
    "for i, bar in enumerate(ax.patches):\n",
    "    ax.text(bar.get_x() + bar.get_width() / 2, bar.get_height() + 0.2,\n",
    "            f'{age_group_percentage.iloc[i]}%', \n",
    "            ha='center', weight='bold', fontsize=10)\n",
    "\n",
    "plt.tight_layout()\n",
    "plt.show()"
   ]
  },
  {
   "cell_type": "markdown",
   "id": "069447c3",
   "metadata": {},
   "source": [
    "<p style=\"color:skyblue; font-size:14px; font-family:Verdana;\">Observations:\n",
    "\n",
    "<p style=\"color:skyblue; font-size:14px; font-family:Verdana;\">The largest customer age group is 50-60 years (24.3%), followed by 60-70 years (19.7%), and 40-50 years (16.2%).\n",
    "<p style=\"color:skyblue; font-size:14px; font-family:Verdana;\">These top three age groups collectively account for 60.2% of the total customer base.\n",
    "\n",
    "<p style=\"color:skyblue; font-size:14px; font-family:Verdana;\">Starbucks might appeal more to older age groups due to factors such as higher disposable income, established brand loyalty, and a preference for premium coffee and dining experiences.\n",
    "<p style=\"color:skyblue; font-size:14px; font-family:Verdana;\">The brand's ambiance and product offerings may resonate well with middle-aged and older adults who value quality and a relaxing environment.\n",
    "<p style=\"color:skyblue; font-size:14px; font-family:Verdana;\">It may also have provided a convenient and familiar setting for socializing, work, or relaxation, which aligns with the lifestyle of these age groups.</p>"
   ]
  },
  {
   "cell_type": "markdown",
   "id": "c91f2ad5",
   "metadata": {},
   "source": [
    "<p style=\"color:pink; font-size:16px;\">Dividing customers into income groups"
   ]
  },
  {
   "cell_type": "code",
   "execution_count": 39,
   "id": "40ae826f",
   "metadata": {},
   "outputs": [
    {
     "data": {
      "image/png": "[encoded data removed]",
      "text/plain": [
       "<Figure size 600x400 with 1 Axes>"
      ]
     },
     "metadata": {},
     "output_type": "display_data"
    }
   ],
   "source": [
    "# Create a new column `income_group`\n",
    "income_bins = [customers['income'].min(), 50000, 70000, 90000, 100000, customers['income'].max()]\n",
    "income_labels = ['30-50k', '50-70k', '70-90k', '90-110k','> 110k']\n",
    "customers['income_group'] = pd.cut(customers['income'], bins=income_bins, labels=income_labels)\n",
    "\n",
    "# Visualize customers by income groups\n",
    "income_group_percentage = (customers['income_group'].value_counts(normalize=True).sort_index() * 100).round(1)\n",
    "\n",
    "fig, ax = plt.subplots(figsize=(6, 4))\n",
    "\n",
    "colors = sns.color_palette('pastel')\n",
    "income_group_percentage.plot(kind='bar', ax=ax, color=colors)\n",
    "\n",
    "yticks = np.arange(0, 45, 5)\n",
    "yticklabels = [str(y) + '%' for y in yticks]\n",
    "ax.set_yticks(yticks)\n",
    "ax.set_yticklabels(yticklabels, fontsize=10)\n",
    "ax.set_xticklabels(income_group_percentage.index, rotation=45, fontsize=12)\n",
    "ax.set_xlabel('Income USD', fontsize=14)\n",
    "ax.set_ylabel('Percentage %', fontsize=14)\n",
    "ax.set_title('Income Distribution', fontsize=16)\n",
    "\n",
    "# Display percentage on top of bars\n",
    "for i, bar in enumerate(ax.patches):\n",
    "    ax.text(bar.get_x() + bar.get_width() / 2, bar.get_height() + 0.2,\n",
    "            f'{income_group_percentage.iloc[i]}%', \n",
    "            ha='center', weight='bold', fontsize=10)\n",
    "\n",
    "plt.tight_layout()\n",
    "plt.show()\n"
   ]
  },
  {
   "cell_type": "markdown",
   "id": "838d36ee",
   "metadata": {},
   "source": [
    "<p style=\"color:skyblue; font-size:14px; font-family:Verdana;\">Observations:\n",
    "\n",
    "<p style=\"color:skyblue; font-size:14px; font-family:Verdana;\">A significant portion of customers earn an income ranging between $50,000 and $70,000, followed by those earning $30,000 to $50,000 and $70,000 to $90,000.\n",
    "\n",
    "<p style=\"color:skyblue; font-size:14px; font-family:Verdana;\">The $50,000 to $70,000 income range likely represents customers who can comfortably afford Starbucks' premium products without perceiving them as overly expensive.\n"
   ]
  },
  {
   "cell_type": "markdown",
   "id": "8feed7be",
   "metadata": {},
   "source": [
    "<p style=\"color:pink; font-size:16px;\">Bivariate analysis on income vs age"
   ]
  },
  {
   "cell_type": "code",
   "execution_count": 40,
   "id": "79ec3a32",
   "metadata": {},
   "outputs": [
    {
     "data": {
      "image/png": "[encoded data removed]",
      "text/plain": [
       "<Figure size 600x400 with 1 Axes>"
      ]
     },
     "metadata": {},
     "output_type": "display_data"
    }
   ],
   "source": [
    "# Create a new column `age_group` using pd.cut\n",
    "if 'age_group' not in customers.columns:\n",
    "    bins = [customers['age'].min(), 30, 50, 70, 56, 66, 76, 86, customers['age'].max()]\n",
    "    labels = ['18-30ys', '30-40ys', '40-50ys', '50-60ys', '60-70ys', '70-80ys', '> 80ys']\n",
    "    customers['age_group'] = pd.cut(customers['age'], bins=bins, labels=labels)\n",
    "\n",
    "# Aggregate data: mean income by age group\n",
    "age_group_income = customers.groupby('age_group')['income'].mean().sort_index()\n",
    "\n",
    "# Plot\n",
    "plt.figure(figsize=(6, 4))\n",
    "plt.plot(age_group_income.index, age_group_income.values, marker='o', linestyle='-', color='skyblue', linewidth= 3.5)\n",
    "\n",
    "# Setting labels and title\n",
    "plt.xlabel('Age Group', fontsize=12)\n",
    "plt.ylabel('Average Income (USD)', fontsize=12)\n",
    "plt.title('Income vs Age', fontsize=14)\n",
    "plt.xticks(rotation=45)\n",
    "\n",
    "\n",
    "plt.tight_layout()\n",
    "plt.show()"
   ]
  },
  {
   "cell_type": "markdown",
   "id": "2e2cc04e",
   "metadata": {},
   "source": [
    "<p style=\"color:skyblue; font-size:14px; font-family:Verdana;\">Key Observations\n",
    "\n",
    "<p style=\"color:skyblue; font-size:14px; font-family:Verdana;\">1. Steady Increase in Income with Age:\n",
    "   The graph shows a clear trend where average income increases with age, peaking in the 50-60 years age group. This suggests      that as people grow older, their income tends to rise, likely due to career progression, accumulated experience, and higher-    paying positions.\n",
    "\n",
    "<p style=\"color:skyblue; font-size:14px; font-family:Verdana;\">2. Income Plateau After 60:\n",
    "   After reaching the peak in the 50-60 years age group, the average income appears to plateau or slightly decrease for those in    the 60-70 years age group. This may indicate that many individuals in this age range are transitioning into retirement,          leading to a reduction in income.\n",
    "\n",
    "<p style=\"color:skyblue; font-size:14px; font-family:Verdana;\">3. Stable Income in Older Age Groups:\n",
    "   The slight increase in average income for the 70-80 years and above 80 years age groups could be attributed to retirement        benefits, pensions, or other forms of passive income that sustain their earnings at a relatively stable level.\n",
    "\n",
    "<p style=\"color:skyblue; font-size:14px; font-family:Verdana;\">4. Lower Income in Younger Age Groups:\n",
    "   The lowest average income is observed in the 18-30 years age group, which is expected as this group consists mostly of          individuals who are early in their careers or still completing their education.\n",
    "\n",
    "<p style=\"color:pink; font-size:14px; font-family:Verdana;\">Implications for Starbucks:\n",
    "\n",
    "<p style=\"color:skyblue; font-size:14px; font-family:Verdana;\">The data suggests that Starbucks' primary customer base, in terms of income, might be those in the 50-60 years age group, as they have the highest average income and are likely to spend more on premium products. However, the 60-70 years age group, despite the slight dip, still holds significant purchasing power, making them a key demographic as well."
   ]
  },
  {
   "cell_type": "markdown",
   "id": "7c24fa6f",
   "metadata": {},
   "source": [
    "<p style=\"color:pink; font-size:16px;\">Univariate analysis on Became member on"
   ]
  },
  {
   "cell_type": "code",
   "execution_count": 41,
   "id": "fd3fe982",
   "metadata": {},
   "outputs": [
    {
     "data": {
      "text/html": [
       "<div>\n",
       "<style scoped>\n",
       "    .dataframe tbody tr th:only-of-type {\n",
       "        vertical-align: middle;\n",
       "    }\n",
       "\n",
       "    .dataframe tbody tr th {\n",
       "        vertical-align: top;\n",
       "    }\n",
       "\n",
       "    .dataframe thead th {\n",
       "        text-align: right;\n",
       "    }\n",
       "</style>\n",
       "<table border=\"1\" class=\"dataframe\">\n",
       "  <thead>\n",
       "    <tr style=\"text-align: right;\">\n",
       "      <th></th>\n",
       "      <th>id</th>\n",
       "      <th>became_member_on</th>\n",
       "      <th>year</th>\n",
       "      <th>month</th>\n",
       "      <th>day</th>\n",
       "      <th>month_name</th>\n",
       "      <th>day_name</th>\n",
       "    </tr>\n",
       "  </thead>\n",
       "  <tbody>\n",
       "    <tr>\n",
       "      <th>0</th>\n",
       "      <td>0610b486422d4921ae7d2bf64640c50b</td>\n",
       "      <td>2017-07-15</td>\n",
       "      <td>2017</td>\n",
       "      <td>7</td>\n",
       "      <td>15</td>\n",
       "      <td>July</td>\n",
       "      <td>Saturday</td>\n",
       "    </tr>\n",
       "    <tr>\n",
       "      <th>1</th>\n",
       "      <td>78afa995795e4d85b5d9ceeca43f5fef</td>\n",
       "      <td>2017-05-09</td>\n",
       "      <td>2017</td>\n",
       "      <td>5</td>\n",
       "      <td>9</td>\n",
       "      <td>May</td>\n",
       "      <td>Tuesday</td>\n",
       "    </tr>\n",
       "    <tr>\n",
       "      <th>2</th>\n",
       "      <td>e2127556f4f64592b11af22de27a7932</td>\n",
       "      <td>2018-04-26</td>\n",
       "      <td>2018</td>\n",
       "      <td>4</td>\n",
       "      <td>26</td>\n",
       "      <td>April</td>\n",
       "      <td>Thursday</td>\n",
       "    </tr>\n",
       "  </tbody>\n",
       "</table>\n",
       "</div>"
      ],
      "text/plain": [
       "                                 id became_member_on  year  month  day  \\\n",
       "0  0610b486422d4921ae7d2bf64640c50b       2017-07-15  2017      7   15   \n",
       "1  78afa995795e4d85b5d9ceeca43f5fef       2017-05-09  2017      5    9   \n",
       "2  e2127556f4f64592b11af22de27a7932       2018-04-26  2018      4   26   \n",
       "\n",
       "  month_name  day_name  \n",
       "0       July  Saturday  \n",
       "1        May   Tuesday  \n",
       "2      April  Thursday  "
      ]
     },
     "execution_count": 41,
     "metadata": {},
     "output_type": "execute_result"
    }
   ],
   "source": [
    "# Select the df_member dataframe\n",
    "df_member = customers[['id', 'became_member_on']].copy()\n",
    "\n",
    "# Convert the 'became_member_on' column to datetime format\n",
    "df_member['became_member_on'] = pd.to_datetime(df_member['became_member_on'], format='%Y%m%d')\n",
    "\n",
    "# Add columns `year`, `month`, `day_of_week`\n",
    "df_member = df_member.assign(\n",
    "    year=df_member.became_member_on.dt.year,\n",
    "    month=df_member.became_member_on.dt.month,\n",
    "    day=df_member.became_member_on.dt.day,\n",
    "    month_name=df_member.became_member_on.dt.month_name(),\n",
    "#day_of_week=df_member.became_member_on.dt.weekday,\n",
    "    day_name=df_member.became_member_on.dt.day_name()\n",
    ")\n",
    "\n",
    "# Displaying the first three rows of the modified dataframe\n",
    "df_member.head(3)"
   ]
  },
  {
   "cell_type": "code",
   "execution_count": 42,
   "id": "47867f95",
   "metadata": {},
   "outputs": [
    {
     "data": {
      "image/png": "[encoded data removed]",
      "text/plain": [
       "<Figure size 600x400 with 1 Axes>"
      ]
     },
     "metadata": {},
     "output_type": "display_data"
    }
   ],
   "source": [
    "# Visualizing year-wise member registration\n",
    "plt.figure(figsize=(6, 4))\n",
    "sns.histplot(data=df_member.sort_values('year'), y='year', kde=False, color='darkblue')\n",
    "plt.xlabel('Year', fontsize=14)\n",
    "plt.ylabel('Count', fontsize=14)\n",
    "plt.title('Year-wise Member Registration', fontsize=16)\n",
    "plt.show()"
   ]
  },
  {
   "cell_type": "markdown",
   "id": "cbdcdf1f",
   "metadata": {},
   "source": [
    "<p style=\"color:skyblue; font-size:14px; font-family:Verdana;\">The graph shows a clear upward trend in member registrations over the years from 2013 to 2017, with 2017 having the highest number of registrations. This suggests that Starbucks’ membership program gained increasing popularity during this period.\n",
    "\n",
    "<p style=\"color:skyblue; font-size:14px; font-family:Verdana;\">The year 2017 stands out with a peak in registrations, indicating a possible successful marketing campaign or promotional strategy that attracted a large number of new members. This could also reflect broader customer engagement or the introduction of new features that appealed to customers.\n",
    "\n",
    "<p style=\"color:skyblue; font-size:14px; font-family:Verdana;\">There is a slight drop in registrations in 2018 compared to 2017, which could indicate market saturation or a reduction in the effectiveness of promotional activities. Alternatively, it might reflect a shift in the company’s strategy, focusing more on retaining existing members rather than acquiring new ones.\n",
    "\n",
    "<p style=\"color:skyblue; font-size:14px; font-family:Verdana;\">The low registration numbers from 2013 to 2015 suggest that the membership program might have been in its early stages or that awareness among customers was still growing. The gradual increase after 2014 indicates that the program started gaining traction, possibly due to improvements or increased marketing efforts.\n",
    "\n",
    "<p style=\"color:pink; font-size:14px; font-family:Verdana;\">Implications for Starbucks:\n",
    "<p style=\"color:skyblue; font-size:14px; font-family:Verdana;\">   - Understanding the factors that led to the peak in 2017 could help Starbucks replicate that success in future years. Additionally, the slight decline in 2018 suggests that Starbucks may need to explore new strategies or incentives to maintain and grow its membership base."
   ]
  },
  {
   "cell_type": "markdown",
   "id": "9724458e",
   "metadata": {},
   "source": [
    "<p style=\"color:pink; font-size:16px;\">Daily memebers growth"
   ]
  },
  {
   "cell_type": "code",
   "execution_count": 43,
   "id": "dbd3529c",
   "metadata": {},
   "outputs": [
    {
     "name": "stdout",
     "output_type": "stream",
     "text": [
      "The earliest membership date is: 2013-07-29 00:00:00 and the latest membership date is: 2018-07-26 00:00:00\n"
     ]
    }
   ],
   "source": [
    "print(f\"The earliest membership date is: {df_member['became_member_on'].min()} and the latest membership date is: {df_member['became_member_on'].max()}\")"
   ]
  },
  {
   "cell_type": "code",
   "execution_count": 44,
   "id": "e6a7bf80",
   "metadata": {},
   "outputs": [
    {
     "data": {
      "image/png": "[encoded data removed]",
      "text/plain": [
       "<Figure size 1200x400 with 1 Axes>"
      ]
     },
     "metadata": {},
     "output_type": "display_data"
    }
   ],
   "source": [
    "# Create a time series with the number of new members on each day\n",
    "daily_new_members = df_member.value_counts('became_member_on').sort_index()\n",
    "df_member_growth = pd.DataFrame(index=daily_new_members.index.values, data=daily_new_members.values, columns=['Number of New Members'])\n",
    "\n",
    "# Generate a line plot\n",
    "plt.figure(figsize=(12, 4))\n",
    "plt.plot(df_member_growth.index, df_member_growth['Number of New Members'], marker='o', linestyle='-', color='blue')\n",
    "plt.title('Daily Growth of New Members', fontsize=18)\n",
    "plt.xlabel('Date', fontsize=14)\n",
    "plt.ylabel('Number of New Members', fontsize=14)\n",
    "plt.show()"
   ]
  },
  {
   "cell_type": "markdown",
   "id": "6b99e98f",
   "metadata": {},
   "source": [
    "<p style=\"color:skyblue; font-size:14px; font-family:Verdana;\">The daily growth of new members shows a significant upward trend starting from late 2016, with marked spikes in mid 2017 to 2018, indicating successful membership drives or promotional efforts during these periods."
   ]
  },
  {
   "cell_type": "markdown",
   "id": "c26a32c3",
   "metadata": {},
   "source": [
    "<p style=\"color:pink; font-size:16px;\">Member growth by month"
   ]
  },
  {
   "cell_type": "code",
   "execution_count": 45,
   "id": "e31b8fe1",
   "metadata": {},
   "outputs": [
    {
     "data": {
      "image/png": "[encoded data removed]",
      "text/plain": [
       "<Figure size 600x400 with 1 Axes>"
      ]
     },
     "metadata": {},
     "output_type": "display_data"
    }
   ],
   "source": [
    "plt.figure(figsize=(6, 4))\n",
    "sns.histplot(data=df_member.sort_values('month'), y='month_name', bins=12, kde=False, color='skyblue')\n",
    "plt.title('Number of New Members by Month', fontsize=16)\n",
    "plt.xticks(fontsize=10)\n",
    "plt.yticks(fontsize=10)\n",
    "plt.xlabel('Count', fontsize=14)\n",
    "plt.ylabel('Month', fontsize=14)\n",
    "plt.tight_layout()\n",
    "plt.show()"
   ]
  },
  {
   "cell_type": "markdown",
   "id": "f6088bcb",
   "metadata": {},
   "source": [
    "<p style=\"color:skyblue; font-size:14px; font-family:Verdana;\">Observations:\n",
    "\n",
    "<p style=\"color:skyblue; font-size:14px; font-family:Verdana;\">1.   December and January have the highest number of new member registrations, indicating a strong influence of the holiday season and New Year on customer sign-ups.\n",
    "<p style=\"color:skyblue; font-size:14px; font-family:Verdana;\">2.   February has the lowest number of registrations, suggesting that it may be a less popular month for new members compared to other times of the year.\n",
    "<p style=\"color:skyblue; font-size:14px; font-family:Verdana;\">3.   July and August show a peak in registrations, likely due to summer promotions or increased leisure activities."
   ]
  },
  {
   "cell_type": "markdown",
   "id": "cd0fb2d8",
   "metadata": {},
   "source": [
    "<p style=\"color:pink; font-size:16px;\">Member growth by weekday"
   ]
  },
  {
   "cell_type": "code",
   "execution_count": 46,
   "id": "cf2e9600",
   "metadata": {},
   "outputs": [
    {
     "data": {
      "image/png": "[encoded data removed]",
      "text/plain": [
       "<Figure size 600x400 with 1 Axes>"
      ]
     },
     "metadata": {},
     "output_type": "display_data"
    }
   ],
   "source": [
    "plt.figure(figsize=(6, 4))\n",
    "sns.histplot(data=df_member.sort_values('day_name'), y='day_name', bins=7, kde=False, color='salmon')\n",
    "plt.title('Number of New Members by Weekday', fontsize=16)\n",
    "plt.xticks(fontsize=8)\n",
    "plt.yticks(fontsize=8)\n",
    "plt.xlabel('Count', fontsize=12)\n",
    "plt.ylabel('Weekday', fontsize=12)\n",
    "plt.tight_layout()\n",
    "plt.show()"
   ]
  },
  {
   "cell_type": "markdown",
   "id": "d73e5cb9",
   "metadata": {},
   "source": [
    "<p style=\"color:skyblue; font-size:14px; font-family:Verdana;\">As expected, there were maximum growth in new members during the weekends. On weekdays tuesday is having more new member registrations."
   ]
  },
  {
   "cell_type": "markdown",
   "id": "e6ec8fcc",
   "metadata": {},
   "source": [
    "<br>"
   ]
  },
  {
   "cell_type": "markdown",
   "id": "b60bda3b",
   "metadata": {},
   "source": [
    "**4.3.4.Customer Segmentation**  <a class=\"anchor\" id=\"434-customer-segmentation\"></a>"
   ]
  },
  {
   "cell_type": "markdown",
   "id": "acb22bc4",
   "metadata": {},
   "source": [
    "<p style=\"color:pink; font-size:16px;\">The segmentation of customers will be based on their transactional activities throughout the campaign month. Key features extracted for each customer include the total number of offers received, the number of offers viewed, the number of offers completed, the number of transactions made during the campaign period, and the overall expenditure. To segment the customers effectively, K-Means clustering will be employed. The optimal number of clusters will be determined using the Elbow method along with Silhouette scores.\n",
    "\n",
    "<p style=\"color:pink; font-size:16px;\">To interpret the resulting clusters, essential metrics will be calculated for each group, such as the Average Purchase Value (APV), purchase frequency, the overall rate of offer completion, and offer sensitivity. This approach will provide a detailed understanding of the behavioral patterns within each cluster, enabling the assignment of descriptive labels to each segment."
   ]
  },
  {
   "cell_type": "code",
   "execution_count": 47,
   "id": "44b25cf5",
   "metadata": {},
   "outputs": [],
   "source": [
    "# Create an empty df with columns needed\n",
    "customer_behavior = pd.DataFrame(columns = ['person', 'num_received', 'num_viewed', 'num_completed', 'num_transactions', 'money_spent'])\n"
   ]
  },
  {
   "cell_type": "code",
   "execution_count": 48,
   "id": "dc4aff04",
   "metadata": {},
   "outputs": [],
   "source": [
    "# Remove rows of customers with missing gender and income\n",
    "id_to_remove = rows_with_missing_income['id']\n",
    "transcripts_filtered = transcripts[~transcripts['person'].isin(id_to_remove)].reset_index(drop = True)"
   ]
  },
  {
   "cell_type": "code",
   "execution_count": 49,
   "id": "8917db6b",
   "metadata": {},
   "outputs": [],
   "source": [
    "# Add data to `person`, ordered in ascending order\n",
    "customer_behavior['person'] = transcripts_filtered.value_counts('person').sort_index().index.values"
   ]
  },
  {
   "cell_type": "code",
   "execution_count": 50,
   "id": "25665f54",
   "metadata": {},
   "outputs": [],
   "source": [
    "# Aggregate df transcripts\n",
    "transcripts_filtered = transcripts_filtered.sort_values('person')\n",
    "transcripts_grouped = transcripts_filtered.groupby(['person', 'event']).count()"
   ]
  },
  {
   "cell_type": "code",
   "execution_count": 51,
   "id": "fa5a2d93",
   "metadata": {},
   "outputs": [],
   "source": [
    "# Set `person` as index for easy slicing\n",
    "customer_behavior.set_index('person', inplace = True)"
   ]
  },
  {
   "cell_type": "code",
   "execution_count": 52,
   "id": "24c3b2bc",
   "metadata": {},
   "outputs": [
    {
     "data": {
      "text/html": [
       "<div>\n",
       "<style scoped>\n",
       "    .dataframe tbody tr th:only-of-type {\n",
       "        vertical-align: middle;\n",
       "    }\n",
       "\n",
       "    .dataframe tbody tr th {\n",
       "        vertical-align: top;\n",
       "    }\n",
       "\n",
       "    .dataframe thead th {\n",
       "        text-align: right;\n",
       "    }\n",
       "</style>\n",
       "<table border=\"1\" class=\"dataframe\">\n",
       "  <thead>\n",
       "    <tr style=\"text-align: right;\">\n",
       "      <th></th>\n",
       "      <th>num_received</th>\n",
       "      <th>num_viewed</th>\n",
       "      <th>num_completed</th>\n",
       "      <th>num_transactions</th>\n",
       "      <th>money_spent</th>\n",
       "    </tr>\n",
       "    <tr>\n",
       "      <th>person</th>\n",
       "      <th></th>\n",
       "      <th></th>\n",
       "      <th></th>\n",
       "      <th></th>\n",
       "      <th></th>\n",
       "    </tr>\n",
       "  </thead>\n",
       "  <tbody>\n",
       "    <tr>\n",
       "      <th>688e4f2487d44ad8bbcc0f96936f42d6</th>\n",
       "      <td>4.0</td>\n",
       "      <td>2.0</td>\n",
       "      <td>NaN</td>\n",
       "      <td>NaN</td>\n",
       "      <td>NaN</td>\n",
       "    </tr>\n",
       "    <tr>\n",
       "      <th>8eb1d5e323384aa8bd184749bf9cfc69</th>\n",
       "      <td>6.0</td>\n",
       "      <td>5.0</td>\n",
       "      <td>2.0</td>\n",
       "      <td>8.0</td>\n",
       "      <td>129.57</td>\n",
       "    </tr>\n",
       "    <tr>\n",
       "      <th>88039391f4304a0a9cc2ce1f64b92eb4</th>\n",
       "      <td>4.0</td>\n",
       "      <td>4.0</td>\n",
       "      <td>3.0</td>\n",
       "      <td>3.0</td>\n",
       "      <td>76.62</td>\n",
       "    </tr>\n",
       "    <tr>\n",
       "      <th>1929135b8300410d879b00b07ffe2012</th>\n",
       "      <td>5.0</td>\n",
       "      <td>3.0</td>\n",
       "      <td>1.0</td>\n",
       "      <td>3.0</td>\n",
       "      <td>56.64</td>\n",
       "    </tr>\n",
       "    <tr>\n",
       "      <th>c1e530e252504ec99e7c4ff9efeb4df1</th>\n",
       "      <td>3.0</td>\n",
       "      <td>3.0</td>\n",
       "      <td>3.0</td>\n",
       "      <td>7.0</td>\n",
       "      <td>170.53</td>\n",
       "    </tr>\n",
       "  </tbody>\n",
       "</table>\n",
       "</div>"
      ],
      "text/plain": [
       "                                  num_received  num_viewed  num_completed  \\\n",
       "person                                                                      \n",
       "688e4f2487d44ad8bbcc0f96936f42d6           4.0         2.0            NaN   \n",
       "8eb1d5e323384aa8bd184749bf9cfc69           6.0         5.0            2.0   \n",
       "88039391f4304a0a9cc2ce1f64b92eb4           4.0         4.0            3.0   \n",
       "1929135b8300410d879b00b07ffe2012           5.0         3.0            1.0   \n",
       "c1e530e252504ec99e7c4ff9efeb4df1           3.0         3.0            3.0   \n",
       "\n",
       "                                  num_transactions money_spent  \n",
       "person                                                          \n",
       "688e4f2487d44ad8bbcc0f96936f42d6               NaN         NaN  \n",
       "8eb1d5e323384aa8bd184749bf9cfc69               8.0      129.57  \n",
       "88039391f4304a0a9cc2ce1f64b92eb4               3.0       76.62  \n",
       "1929135b8300410d879b00b07ffe2012               3.0       56.64  \n",
       "c1e530e252504ec99e7c4ff9efeb4df1               7.0      170.53  "
      ]
     },
     "execution_count": 52,
     "metadata": {},
     "output_type": "execute_result"
    }
   ],
   "source": [
    "# Initialize columns with NaN\n",
    "customer_behavior['num_received'] = np.nan\n",
    "customer_behavior['num_viewed'] = np.nan\n",
    "customer_behavior['num_completed'] = np.nan\n",
    "customer_behavior['num_transactions'] = np.nan\n",
    "\n",
    "# Efficiently update counts using boolean indexing and the loc method\n",
    "received_mask = transcripts_grouped.index.get_level_values(1) == 'offer received'\n",
    "viewed_mask = transcripts_grouped.index.get_level_values(1) == 'offer viewed'\n",
    "completed_mask = transcripts_grouped.index.get_level_values(1) == 'offer completed'\n",
    "transaction_mask = transcripts_grouped.index.get_level_values(1) == 'transaction'\n",
    "\n",
    "# Update the columns only where events occurred, leaving others as NaN\n",
    "customer_behavior.loc[transcripts_grouped[received_mask].index.get_level_values(0), 'num_received'] = transcripts_grouped[received_mask]['dict_key'].values\n",
    "customer_behavior.loc[transcripts_grouped[viewed_mask].index.get_level_values(0), 'num_viewed'] = transcripts_grouped[viewed_mask]['dict_key'].values\n",
    "customer_behavior.loc[transcripts_grouped[completed_mask].index.get_level_values(0), 'num_completed'] = transcripts_grouped[completed_mask]['dict_key'].values\n",
    "customer_behavior.loc[transcripts_grouped[transaction_mask].index.get_level_values(0), 'num_transactions'] = transcripts_grouped[transaction_mask]['dict_key'].values\n",
    "\n",
    "# Calculate how much money each customer spent during the month of the campaign\n",
    "money_spent = transcripts_filtered[transcripts_filtered['event'] == 'transaction'].groupby('person').agg({'dict_value': 'sum'})\n",
    "\n",
    "# Add to 'money_spent' directly, keeping NaN where there is no data\n",
    "customer_behavior['money_spent'] = money_spent['dict_value']\n",
    "customer_behavior.sample(5)\n"
   ]
  },
  {
   "cell_type": "code",
   "execution_count": 53,
   "id": "e50b66e5",
   "metadata": {},
   "outputs": [
    {
     "data": {
      "text/plain": [
       "num_received           5\n",
       "num_viewed           150\n",
       "num_completed       2839\n",
       "num_transactions     333\n",
       "money_spent          333\n",
       "dtype: int64"
      ]
     },
     "execution_count": 53,
     "metadata": {},
     "output_type": "execute_result"
    }
   ],
   "source": [
    "customer_behavior.isna().sum()"
   ]
  },
  {
   "cell_type": "code",
   "execution_count": 54,
   "id": "56ecf5d6",
   "metadata": {},
   "outputs": [
    {
     "data": {
      "text/plain": [
       "num_received        0\n",
       "num_viewed          0\n",
       "num_completed       0\n",
       "num_transactions    0\n",
       "money_spent         0\n",
       "dtype: int64"
      ]
     },
     "execution_count": 54,
     "metadata": {},
     "output_type": "execute_result"
    }
   ],
   "source": [
    "# Replace NA with 0\n",
    "customer_behavior.fillna(0, inplace = True)\n",
    "customer_behavior.isna().sum()"
   ]
  },
  {
   "cell_type": "markdown",
   "id": "082c6f1a",
   "metadata": {},
   "source": [
    "<p style=\"color:pink; font-size:16px;\">Removing Outliers"
   ]
  },
  {
   "cell_type": "code",
   "execution_count": 55,
   "id": "71d0120d",
   "metadata": {},
   "outputs": [
    {
     "data": {
      "text/plain": [
       "count    14825.000000\n",
       "mean       117.028155\n",
       "std        129.965016\n",
       "min          0.000000\n",
       "25%         31.450000\n",
       "50%         87.040000\n",
       "75%        160.900000\n",
       "max       1608.690000\n",
       "Name: money_spent, dtype: float64"
      ]
     },
     "execution_count": 55,
     "metadata": {},
     "output_type": "execute_result"
    }
   ],
   "source": [
    "customer_behavior['money_spent'].describe()"
   ]
  },
  {
   "cell_type": "markdown",
   "id": "f7263b90",
   "metadata": {},
   "source": [
    "<p style=\"color:skyblue; font-size:14px; font-family:Verdana;\">The 0.75 quantile is approximately $160, but the maximum value is nearly ten times higher. To improve the accuracy of the K-Means Clustering, I will exclude the top 2% of records based on money spent."
   ]
  },
  {
   "cell_type": "code",
   "execution_count": 56,
   "id": "1c178b63",
   "metadata": {},
   "outputs": [
    {
     "name": "stdout",
     "output_type": "stream",
     "text": [
      "Number of rows removed: 297\n"
     ]
    }
   ],
   "source": [
    "top_2pct_threshold = customer_behavior['money_spent'].quantile(0.98)\n",
    "rows_top_money_spent = customer_behavior[customer_behavior['money_spent'] >= top_2pct_threshold]\n",
    "\n",
    "person_top_money_spent = rows_top_money_spent.index.values\n",
    "customer_top_money_spent_removed = customer_behavior[customer_behavior['money_spent'] < top_2pct_threshold]\n",
    "\n",
    "print('Number of rows removed:', rows_top_money_spent.shape[0])"
   ]
  },
  {
   "cell_type": "markdown",
   "id": "5b02d4cc",
   "metadata": {},
   "source": [
    "<p style=\"color:pink; font-size:16px;\">K-Means Clustering"
   ]
  },
  {
   "cell_type": "code",
   "execution_count": 57,
   "id": "3e5864ca",
   "metadata": {},
   "outputs": [],
   "source": [
    "from sklearn.preprocessing import StandardScaler\n",
    "from sklearn.cluster import KMeans\n",
    "from sklearn import metrics"
   ]
  },
  {
   "cell_type": "code",
   "execution_count": 58,
   "id": "409909ef",
   "metadata": {},
   "outputs": [
    {
     "data": {
      "text/html": [
       "<div>\n",
       "<style scoped>\n",
       "    .dataframe tbody tr th:only-of-type {\n",
       "        vertical-align: middle;\n",
       "    }\n",
       "\n",
       "    .dataframe tbody tr th {\n",
       "        vertical-align: top;\n",
       "    }\n",
       "\n",
       "    .dataframe thead th {\n",
       "        text-align: right;\n",
       "    }\n",
       "</style>\n",
       "<table border=\"1\" class=\"dataframe\">\n",
       "  <thead>\n",
       "    <tr style=\"text-align: right;\">\n",
       "      <th></th>\n",
       "      <th>num_received</th>\n",
       "      <th>num_viewed</th>\n",
       "      <th>num_completed</th>\n",
       "      <th>num_transactions</th>\n",
       "      <th>money_spent</th>\n",
       "    </tr>\n",
       "  </thead>\n",
       "  <tbody>\n",
       "    <tr>\n",
       "      <th>0</th>\n",
       "      <td>0.482447</td>\n",
       "      <td>0.501233</td>\n",
       "      <td>0.531352</td>\n",
       "      <td>-0.060069</td>\n",
       "      <td>0.277234</td>\n",
       "    </tr>\n",
       "    <tr>\n",
       "      <th>1</th>\n",
       "      <td>0.482447</td>\n",
       "      <td>1.276977</td>\n",
       "      <td>0.531352</td>\n",
       "      <td>-0.639666</td>\n",
       "      <td>-0.281415</td>\n",
       "    </tr>\n",
       "    <tr>\n",
       "      <th>2</th>\n",
       "      <td>0.482447</td>\n",
       "      <td>-0.274511</td>\n",
       "      <td>0.531352</td>\n",
       "      <td>-0.060069</td>\n",
       "      <td>1.080974</td>\n",
       "    </tr>\n",
       "  </tbody>\n",
       "</table>\n",
       "</div>"
      ],
      "text/plain": [
       "   num_received  num_viewed  num_completed  num_transactions  money_spent\n",
       "0      0.482447    0.501233       0.531352         -0.060069     0.277234\n",
       "1      0.482447    1.276977       0.531352         -0.639666    -0.281415\n",
       "2      0.482447   -0.274511       0.531352         -0.060069     1.080974"
      ]
     },
     "execution_count": 58,
     "metadata": {},
     "output_type": "execute_result"
    }
   ],
   "source": [
    "# Filtered customer behavior data\n",
    "customer_behavior_filtered = customer_top_money_spent_removed.copy()\n",
    "\n",
    "# Feature Scaling\n",
    "scaler_customer_behavior = StandardScaler()\n",
    "scaler_customer_behavior.fit(customer_behavior_filtered)\n",
    "customer_behavior_scaled = scaler_customer_behavior.transform(customer_behavior_filtered)\n",
    "pd.DataFrame(data = customer_behavior_scaled, columns = customer_behavior_filtered.columns.values).head(3)"
   ]
  },
  {
   "cell_type": "code",
   "execution_count": 59,
   "id": "726fcba9",
   "metadata": {},
   "outputs": [
    {
     "data": {
      "image/png": "[encoded data removed]",
      "text/plain": [
       "<Figure size 1200x600 with 2 Axes>"
      ]
     },
     "metadata": {},
     "output_type": "display_data"
    }
   ],
   "source": [
    "# Suppress FutureWarnings\n",
    "import warnings  # Import the warnings module\n",
    "warnings.simplefilter(action='ignore', category=FutureWarning)\n",
    "\n",
    "# Finding Optimal number of clusters k \n",
    "df_feature = customer_behavior_scaled\n",
    "wcss = []\n",
    "sil_score = []\n",
    "max_clusters = 10\n",
    "\n",
    "# Perform K-Means clustering and calculate WCSS and silhouette scores\n",
    "for k in range(1, max_clusters):\n",
    "    kmeans = KMeans(n_clusters=k, random_state=10, n_init=10)  # Explicitly set n_init\n",
    "    kmeans.fit(df_feature)\n",
    "    \n",
    "    # Calculate WCSS for the Elbow Method\n",
    "    wcss.append(kmeans.inertia_)\n",
    "    \n",
    "    # Calculate the mean Silhouette coefficient for k >= 2\n",
    "    if k >= 2:\n",
    "        labels = kmeans.labels_\n",
    "        sil_score.append(metrics.silhouette_score(df_feature, labels))\n",
    "\n",
    "# Plot the Elbow Method and Silhouette Method using Seaborn\n",
    "fig, axs = plt.subplots(1, 2, figsize=(12, 6))\n",
    "\n",
    "# Elbow Method plot\n",
    "sns.lineplot(x=np.arange(1, max_clusters), y=wcss, marker='o', ax=axs[0])\n",
    "axs[0].set_xlabel('Number of Clusters', fontsize=12)\n",
    "axs[0].set_ylabel('Within-Cluster Sum of Squares', fontsize=12)\n",
    "axs[0].set_title('The Elbow Method', fontsize=15)\n",
    "\n",
    "# Silhouette Method plot\n",
    "sns.lineplot(x=np.arange(2, max_clusters), y=sil_score, marker='*', ax=axs[1])\n",
    "axs[1].set_xlabel('Number of Clusters', fontsize=12)\n",
    "axs[1].set_ylabel('Mean Silhouette Coefficient', fontsize=12)\n",
    "axs[1].set_title('The Silhouette Method', fontsize=15)\n",
    "\n",
    "plt.tight_layout()\n",
    "plt.show()"
   ]
  },
  {
   "cell_type": "markdown",
   "id": "12ac0688",
   "metadata": {},
   "source": [
    "<p style=\"color:skyblue; font-size:14px; font-family:Verdana;\">From the Elbow graph, it is noted that at k = 5, the reduction in the within-cluster sum of squares (WCSS) begins to level off. In the Silhouette graph, the highest score occurs at k = 5 (excluding k = 2).So, 5 clusters will be chosen for the K-Means clustering analysis."
   ]
  },
  {
   "cell_type": "code",
   "execution_count": 60,
   "id": "42478c3a",
   "metadata": {},
   "outputs": [
    {
     "data": {
      "text/plain": [
       "cluster\n",
       "0    1497\n",
       "1    3349\n",
       "2    3141\n",
       "3    2978\n",
       "4    3563\n",
       "dtype: int64"
      ]
     },
     "execution_count": 60,
     "metadata": {},
     "output_type": "execute_result"
    }
   ],
   "source": [
    "# Suppress FutureWarnings\n",
    "warnings.simplefilter(action='ignore', category=FutureWarning)\n",
    "\n",
    "# K-Means clustering\n",
    "k = 5\n",
    "df_feature = customer_behavior_scaled\n",
    "kmeans = KMeans(n_clusters=k, random_state=10, n_init=10)  # Explicitly set n_init\n",
    "kmeans.fit_transform(df_feature)\n",
    "customer_with_cluster = customer_behavior_filtered.assign(cluster=kmeans.labels_)\n",
    "customer_with_cluster.value_counts('cluster').sort_index()"
   ]
  },
  {
   "cell_type": "code",
   "execution_count": 61,
   "id": "3651f8a7",
   "metadata": {},
   "outputs": [
    {
     "data": {
      "text/html": [
       "<div>\n",
       "<style scoped>\n",
       "    .dataframe tbody tr th:only-of-type {\n",
       "        vertical-align: middle;\n",
       "    }\n",
       "\n",
       "    .dataframe tbody tr th {\n",
       "        vertical-align: top;\n",
       "    }\n",
       "\n",
       "    .dataframe thead th {\n",
       "        text-align: right;\n",
       "    }\n",
       "</style>\n",
       "<table border=\"1\" class=\"dataframe\">\n",
       "  <thead>\n",
       "    <tr style=\"text-align: right;\">\n",
       "      <th></th>\n",
       "      <th>num_received</th>\n",
       "      <th>num_viewed</th>\n",
       "      <th>num_completed</th>\n",
       "      <th>num_transactions</th>\n",
       "      <th>money_spent</th>\n",
       "      <th>cluster</th>\n",
       "    </tr>\n",
       "    <tr>\n",
       "      <th>person</th>\n",
       "      <th></th>\n",
       "      <th></th>\n",
       "      <th></th>\n",
       "      <th></th>\n",
       "      <th></th>\n",
       "      <th></th>\n",
       "    </tr>\n",
       "  </thead>\n",
       "  <tbody>\n",
       "    <tr>\n",
       "      <th>9bf2feb2b3ba4c439b040a257b71edb1</th>\n",
       "      <td>5.0</td>\n",
       "      <td>4.0</td>\n",
       "      <td>3.0</td>\n",
       "      <td>7.0</td>\n",
       "      <td>176.55</td>\n",
       "      <td>3</td>\n",
       "    </tr>\n",
       "    <tr>\n",
       "      <th>203831402e2b49a8bf1fa35263f17165</th>\n",
       "      <td>4.0</td>\n",
       "      <td>2.0</td>\n",
       "      <td>3.0</td>\n",
       "      <td>11.0</td>\n",
       "      <td>223.46</td>\n",
       "      <td>2</td>\n",
       "    </tr>\n",
       "    <tr>\n",
       "      <th>1e6e2ef76ef741309f8e6970e393c6d7</th>\n",
       "      <td>3.0</td>\n",
       "      <td>3.0</td>\n",
       "      <td>2.0</td>\n",
       "      <td>5.0</td>\n",
       "      <td>105.79</td>\n",
       "      <td>2</td>\n",
       "    </tr>\n",
       "    <tr>\n",
       "      <th>94c8203b530045afa11b87b15b887b0f</th>\n",
       "      <td>5.0</td>\n",
       "      <td>4.0</td>\n",
       "      <td>4.0</td>\n",
       "      <td>10.0</td>\n",
       "      <td>141.53</td>\n",
       "      <td>3</td>\n",
       "    </tr>\n",
       "    <tr>\n",
       "      <th>b1c71cebf2884ed28d02549a18f5deb1</th>\n",
       "      <td>6.0</td>\n",
       "      <td>3.0</td>\n",
       "      <td>6.0</td>\n",
       "      <td>18.0</td>\n",
       "      <td>231.19</td>\n",
       "      <td>3</td>\n",
       "    </tr>\n",
       "  </tbody>\n",
       "</table>\n",
       "</div>"
      ],
      "text/plain": [
       "                                  num_received  num_viewed  num_completed  \\\n",
       "person                                                                      \n",
       "9bf2feb2b3ba4c439b040a257b71edb1           5.0         4.0            3.0   \n",
       "203831402e2b49a8bf1fa35263f17165           4.0         2.0            3.0   \n",
       "1e6e2ef76ef741309f8e6970e393c6d7           3.0         3.0            2.0   \n",
       "94c8203b530045afa11b87b15b887b0f           5.0         4.0            4.0   \n",
       "b1c71cebf2884ed28d02549a18f5deb1           6.0         3.0            6.0   \n",
       "\n",
       "                                  num_transactions  money_spent  cluster  \n",
       "person                                                                    \n",
       "9bf2feb2b3ba4c439b040a257b71edb1               7.0       176.55        3  \n",
       "203831402e2b49a8bf1fa35263f17165              11.0       223.46        2  \n",
       "1e6e2ef76ef741309f8e6970e393c6d7               5.0       105.79        2  \n",
       "94c8203b530045afa11b87b15b887b0f              10.0       141.53        3  \n",
       "b1c71cebf2884ed28d02549a18f5deb1              18.0       231.19        3  "
      ]
     },
     "execution_count": 61,
     "metadata": {},
     "output_type": "execute_result"
    }
   ],
   "source": [
    "customer_with_cluster.sample(5)"
   ]
  },
  {
   "cell_type": "code",
   "execution_count": 62,
   "id": "7eacfbab",
   "metadata": {},
   "outputs": [
    {
     "data": {
      "text/html": [
       "<div>\n",
       "<style scoped>\n",
       "    .dataframe tbody tr th:only-of-type {\n",
       "        vertical-align: middle;\n",
       "    }\n",
       "\n",
       "    .dataframe tbody tr th {\n",
       "        vertical-align: top;\n",
       "    }\n",
       "\n",
       "    .dataframe thead th {\n",
       "        text-align: right;\n",
       "    }\n",
       "</style>\n",
       "<table border=\"1\" class=\"dataframe\">\n",
       "  <thead>\n",
       "    <tr style=\"text-align: right;\">\n",
       "      <th></th>\n",
       "      <th>num_received</th>\n",
       "      <th>num_viewed</th>\n",
       "      <th>num_completed</th>\n",
       "      <th>num_transactions</th>\n",
       "      <th>money_spent</th>\n",
       "    </tr>\n",
       "    <tr>\n",
       "      <th>cluster</th>\n",
       "      <th></th>\n",
       "      <th></th>\n",
       "      <th></th>\n",
       "      <th></th>\n",
       "      <th></th>\n",
       "    </tr>\n",
       "  </thead>\n",
       "  <tbody>\n",
       "    <tr>\n",
       "      <th>0</th>\n",
       "      <td>4.81</td>\n",
       "      <td>3.55</td>\n",
       "      <td>2.05</td>\n",
       "      <td>17.25</td>\n",
       "      <td>71.24</td>\n",
       "    </tr>\n",
       "    <tr>\n",
       "      <th>1</th>\n",
       "      <td>5.15</td>\n",
       "      <td>4.08</td>\n",
       "      <td>1.24</td>\n",
       "      <td>4.58</td>\n",
       "      <td>43.10</td>\n",
       "    </tr>\n",
       "    <tr>\n",
       "      <th>2</th>\n",
       "      <td>3.97</td>\n",
       "      <td>2.92</td>\n",
       "      <td>2.86</td>\n",
       "      <td>8.45</td>\n",
       "      <td>153.93</td>\n",
       "    </tr>\n",
       "    <tr>\n",
       "      <th>3</th>\n",
       "      <td>5.32</td>\n",
       "      <td>4.52</td>\n",
       "      <td>4.17</td>\n",
       "      <td>11.59</td>\n",
       "      <td>208.53</td>\n",
       "    </tr>\n",
       "    <tr>\n",
       "      <th>4</th>\n",
       "      <td>3.47</td>\n",
       "      <td>2.00</td>\n",
       "      <td>0.78</td>\n",
       "      <td>5.20</td>\n",
       "      <td>42.43</td>\n",
       "    </tr>\n",
       "  </tbody>\n",
       "</table>\n",
       "</div>"
      ],
      "text/plain": [
       "         num_received  num_viewed  num_completed  num_transactions  \\\n",
       "cluster                                                              \n",
       "0                4.81        3.55           2.05             17.25   \n",
       "1                5.15        4.08           1.24              4.58   \n",
       "2                3.97        2.92           2.86              8.45   \n",
       "3                5.32        4.52           4.17             11.59   \n",
       "4                3.47        2.00           0.78              5.20   \n",
       "\n",
       "         money_spent  \n",
       "cluster               \n",
       "0              71.24  \n",
       "1              43.10  \n",
       "2             153.93  \n",
       "3             208.53  \n",
       "4              42.43  "
      ]
     },
     "execution_count": 62,
     "metadata": {},
     "output_type": "execute_result"
    }
   ],
   "source": [
    "# Aggregate each cluster information and calculate the mean for each feature\n",
    "cluster_info = customer_with_cluster.groupby('cluster').mean()\n",
    "\n",
    "cluster_info.round(2)"
   ]
  },
  {
   "cell_type": "markdown",
   "id": "4ea4b7c2",
   "metadata": {},
   "source": [
    "** **"
   ]
  },
  {
   "cell_type": "markdown",
   "id": "8835e764",
   "metadata": {},
   "source": [
    "<p style=\"color:pink; font-size:16px;\">Checking the clustering results accuracy by using other ML Algorithms "
   ]
  },
  {
   "cell_type": "markdown",
   "id": "8daaeeaf",
   "metadata": {},
   "source": [
    "Classification with Multi-logistic Regression"
   ]
  },
  {
   "cell_type": "code",
   "execution_count": 63,
   "id": "b125f715",
   "metadata": {},
   "outputs": [],
   "source": [
    "from sklearn.model_selection import train_test_split\n",
    "from sklearn.linear_model import LogisticRegression"
   ]
  },
  {
   "cell_type": "code",
   "execution_count": 64,
   "id": "130c047f",
   "metadata": {},
   "outputs": [
    {
     "name": "stdout",
     "output_type": "stream",
     "text": [
      "Test accuracy: 0.9955264969029594\n"
     ]
    }
   ],
   "source": [
    "# Split data for train and test\n",
    "X = customer_behavior_scaled\n",
    "Y = customer_with_cluster['cluster']\n",
    "x_train, x_test, y_train, y_test = train_test_split(X, Y, test_size = 0.2, random_state = 10)\n",
    "# Multiclass logistic regression\n",
    "log_reg_model = LogisticRegression()\n",
    "log_reg_model.fit(x_train, y_train)\n",
    "\n",
    "# Check test accurracy\n",
    "y_predict = log_reg_model.predict(x_test)\n",
    "print(\"Test accuracy:\", metrics.accuracy_score(y_test, y_predict))"
   ]
  },
  {
   "cell_type": "code",
   "execution_count": 65,
   "id": "9b1fc629",
   "metadata": {},
   "outputs": [],
   "source": [
    "from sklearn.model_selection import cross_val_score\n",
    "from sklearn.neighbors import KNeighborsClassifier"
   ]
  },
  {
   "cell_type": "code",
   "execution_count": 66,
   "id": "5204b192",
   "metadata": {},
   "outputs": [
    {
     "name": "stdout",
     "output_type": "stream",
     "text": [
      "Cross-validated accuracy: 0.9739811393840034\n"
     ]
    }
   ],
   "source": [
    "# K-Nearest Neighbors Classification with cross-validation\n",
    "knn = KNeighborsClassifier(n_neighbors=4)\n",
    "cv_scores = cross_val_score(knn, X, Y, cv=5, scoring='accuracy')\n",
    "\n",
    "# Print cross-validated accuracy\n",
    "print(\"Cross-validated accuracy:\", cv_scores.mean())"
   ]
  },
  {
   "cell_type": "markdown",
   "id": "7817af8f",
   "metadata": {},
   "source": [
    "<p style=\"color:skyblue; font-size:14px; font-family:Verdana;\">Both classification methods demonstrated a strong test accuracy, exceeding 97%, when using the labels generated by the K-Means clustering analysis as targets. This suggests that the patterns identified by K-Means clustering within each cluster are distinct enough to be accurately captured by both classification algorithms for more than 97% of the samples."
   ]
  },
  {
   "cell_type": "markdown",
   "id": "7ff659a7",
   "metadata": {},
   "source": [
    "<br><br><br>"
   ]
  },
  {
   "cell_type": "markdown",
   "id": "13f5cb9f",
   "metadata": {},
   "source": [
    "<p style=\"color:pink; font-size:14px; font-family:Verdana;\">Key Metrics for Each Cluster\n",
    "\n",
    "<p style=\"color:skyblue; font-size:14px; font-family:Verdana;\">To gain deeper insights into customer behavior within each segment and to inform targeted strategies, the following key metrics are of interest:\n",
    "\n",
    "<p style=\"color:skyblue; font-size:14px; font-family:Verdana;\">- Frequency: The total number of transactions made during the campaign month.\n",
    "<p style=\"color:skyblue; font-size:14px; font-family:Verdana;\">- Offer Sensitivity: The proportion of transactions involving offers, calculated as the ratio of completed offers to total transactions.\n",
    "<p style=\"color:skyblue; font-size:14px; font-family:Verdana;\">- Offer Completion Rate: The overall rate at which offers are completed.\n",
    "<p style=\"color:skyblue; font-size:14px; font-family:Verdana;\">- Average Purchase Value: The average dollar amount spent per transaction.\n",
    "\n",
    "\n"
   ]
  },
  {
   "cell_type": "code",
   "execution_count": 67,
   "id": "600db703",
   "metadata": {},
   "outputs": [],
   "source": [
    "# Create a df for storing required statistics of each cluster\n",
    "cluster_stats = pd.DataFrame(columns = ['cluster', 'frequency', 'offer_complete_rate', 'offer_sensitivity','avg_purchase_value'])\n",
    "cluster_stats['cluster'] = index = np.arange(k)\n",
    "cluster_stats.set_index('cluster', drop = True, inplace = True)"
   ]
  },
  {
   "cell_type": "code",
   "execution_count": 68,
   "id": "0cde3687",
   "metadata": {},
   "outputs": [],
   "source": [
    "# Add values to df `cluster_stats`\n",
    "cluster_stats['frequency'] = cluster_info['num_transactions'].round(1)\n",
    "cluster_stats['offer_sensitivity'] = (cluster_info['num_completed'] / cluster_info['num_transactions']).round(2)\n",
    "cluster_stats['offer_complete_rate'] = (cluster_info['num_completed'] / cluster_info['num_received']).round(2)\n",
    "cluster_stats['avg_purchase_value'] = (cluster_info['money_spent'] / cluster_info['num_transactions']).round(1)"
   ]
  },
  {
   "cell_type": "code",
   "execution_count": 69,
   "id": "00e123a3",
   "metadata": {},
   "outputs": [
    {
     "data": {
      "text/html": [
       "<div>\n",
       "<style scoped>\n",
       "    .dataframe tbody tr th:only-of-type {\n",
       "        vertical-align: middle;\n",
       "    }\n",
       "\n",
       "    .dataframe tbody tr th {\n",
       "        vertical-align: top;\n",
       "    }\n",
       "\n",
       "    .dataframe thead th {\n",
       "        text-align: right;\n",
       "    }\n",
       "</style>\n",
       "<table border=\"1\" class=\"dataframe\">\n",
       "  <thead>\n",
       "    <tr style=\"text-align: right;\">\n",
       "      <th></th>\n",
       "      <th>frequency</th>\n",
       "      <th>offer_complete_rate</th>\n",
       "      <th>offer_sensitivity</th>\n",
       "      <th>avg_purchase_value</th>\n",
       "    </tr>\n",
       "    <tr>\n",
       "      <th>cluster</th>\n",
       "      <th></th>\n",
       "      <th></th>\n",
       "      <th></th>\n",
       "      <th></th>\n",
       "    </tr>\n",
       "  </thead>\n",
       "  <tbody>\n",
       "    <tr>\n",
       "      <th>0</th>\n",
       "      <td>17.3</td>\n",
       "      <td>0.43</td>\n",
       "      <td>0.12</td>\n",
       "      <td>4.1</td>\n",
       "    </tr>\n",
       "    <tr>\n",
       "      <th>1</th>\n",
       "      <td>4.6</td>\n",
       "      <td>0.24</td>\n",
       "      <td>0.27</td>\n",
       "      <td>9.4</td>\n",
       "    </tr>\n",
       "    <tr>\n",
       "      <th>2</th>\n",
       "      <td>8.4</td>\n",
       "      <td>0.72</td>\n",
       "      <td>0.34</td>\n",
       "      <td>18.2</td>\n",
       "    </tr>\n",
       "    <tr>\n",
       "      <th>3</th>\n",
       "      <td>11.6</td>\n",
       "      <td>0.78</td>\n",
       "      <td>0.36</td>\n",
       "      <td>18.0</td>\n",
       "    </tr>\n",
       "    <tr>\n",
       "      <th>4</th>\n",
       "      <td>5.2</td>\n",
       "      <td>0.22</td>\n",
       "      <td>0.15</td>\n",
       "      <td>8.2</td>\n",
       "    </tr>\n",
       "  </tbody>\n",
       "</table>\n",
       "</div>"
      ],
      "text/plain": [
       "         frequency  offer_complete_rate  offer_sensitivity  avg_purchase_value\n",
       "cluster                                                                       \n",
       "0             17.3                 0.43               0.12                 4.1\n",
       "1              4.6                 0.24               0.27                 9.4\n",
       "2              8.4                 0.72               0.34                18.2\n",
       "3             11.6                 0.78               0.36                18.0\n",
       "4              5.2                 0.22               0.15                 8.2"
      ]
     },
     "execution_count": 69,
     "metadata": {},
     "output_type": "execute_result"
    }
   ],
   "source": [
    "cluster_stats"
   ]
  },
  {
   "cell_type": "markdown",
   "id": "d4095169",
   "metadata": {},
   "source": [
    "<p style=\"color:pink; font-size:16px; font-family:Verdana;\">Cluster Interpretation\n",
    "\n",
    "<p style=\"color:skyblue; font-size:14px; font-family:Verdana;\">1.Cluster 0: These customers make frequent transactions but spend less per transaction and have a low offer sensitivity.So, I will name them as Regulars.\n",
    "\n",
    "<p style=\"color:skyblue; font-size:14px; font-family:Verdana;\">2.Cluster 1: These customers make fewer transactions, but they are moderately sensitive to offers and spend a moderate     amount per transaction.so, they are Occasional Spenders.\n",
    "\n",
    "<p style=\"color:skyblue; font-size:14px; font-family:Verdana;\">3.Cluster 2: This group shows moderate transaction frequency but high spending per transaction with strong engagement with  offers.so they have high potential to become our most valuable customers, High Potentials.\n",
    "\n",
    "<p style=\"color:skyblue; font-size:14px; font-family:Verdana;\">4.Cluster 3: Customers in this cluster are frequent shoppers who spend a lot and are highly responsive to offers.so,they   are our Most Valuables customers.\n",
    "\n",
    "<p style=\"color:skyblue; font-size:14px; font-family:Verdana;\">5.Cluster 4: These customers are infrequent buyers with low spending and low engagement with offers.They can be Low Engagers.\n"
   ]
  },
  {
   "cell_type": "markdown",
   "id": "9599ebfd",
   "metadata": {},
   "source": [
    "<p style=\"color:pink; font-size:16px;\">Assigning top 2 percent members into their appropriate cluster"
   ]
  },
  {
   "cell_type": "code",
   "execution_count": 70,
   "id": "601cf358",
   "metadata": {},
   "outputs": [
    {
     "name": "stdout",
     "output_type": "stream",
     "text": [
      "According to the KMeans model, customers spending top 2% belong to:\n",
      "26 customers belong to Cluster 2.\n",
      "271 customers belong to Cluster 3.\n"
     ]
    }
   ],
   "source": [
    "rows_top_money_spent_scaled = scaler_customer_behavior.transform(rows_top_money_spent)\n",
    "\n",
    "# Predict cluster membership\n",
    "cluster_kmeans = kmeans.predict(rows_top_money_spent_scaled)\n",
    "\n",
    "# Count unique cluster memberships\n",
    "cluster_counts = pd.Series(cluster_kmeans).value_counts().sort_index()\n",
    "\n",
    "print('According to the KMeans model, customers spending top 2% belong to:')\n",
    "for cluster_id, count in cluster_counts.items():\n",
    "    print('{} customers belong to Cluster {}.'.format(count, cluster_id))"
   ]
  },
  {
   "cell_type": "code",
   "execution_count": 71,
   "id": "70ec63ad",
   "metadata": {},
   "outputs": [],
   "source": [
    "# Create a DataFrame for the top 2% customers\n",
    "top_2_percent_customers = rows_top_money_spent.copy()\n",
    "top_2_percent_customers['cluster'] = cluster_kmeans\n",
    "\n",
    "# Separate customers into different DataFrames based on cluster membership\n",
    "cluster_2_customers = top_2_percent_customers[top_2_percent_customers['cluster'] == 2]\n",
    "cluster_3_customers = top_2_percent_customers[top_2_percent_customers['cluster'] == 3]"
   ]
  },
  {
   "cell_type": "code",
   "execution_count": 72,
   "id": "3bed4911",
   "metadata": {},
   "outputs": [
    {
     "data": {
      "text/html": [
       "<div>\n",
       "<style scoped>\n",
       "    .dataframe tbody tr th:only-of-type {\n",
       "        vertical-align: middle;\n",
       "    }\n",
       "\n",
       "    .dataframe tbody tr th {\n",
       "        vertical-align: top;\n",
       "    }\n",
       "\n",
       "    .dataframe thead th {\n",
       "        text-align: right;\n",
       "    }\n",
       "</style>\n",
       "<table border=\"1\" class=\"dataframe\">\n",
       "  <thead>\n",
       "    <tr style=\"text-align: right;\">\n",
       "      <th></th>\n",
       "      <th>num_received</th>\n",
       "      <th>num_viewed</th>\n",
       "      <th>num_completed</th>\n",
       "      <th>num_transactions</th>\n",
       "      <th>money_spent</th>\n",
       "      <th>cluster</th>\n",
       "    </tr>\n",
       "    <tr>\n",
       "      <th>person</th>\n",
       "      <th></th>\n",
       "      <th></th>\n",
       "      <th></th>\n",
       "      <th></th>\n",
       "      <th></th>\n",
       "      <th></th>\n",
       "    </tr>\n",
       "  </thead>\n",
       "  <tbody>\n",
       "    <tr>\n",
       "      <th>72238c93bdfb4272a1f104a59ccc3a37</th>\n",
       "      <td>3.0</td>\n",
       "      <td>3.0</td>\n",
       "      <td>0.0</td>\n",
       "      <td>4.0</td>\n",
       "      <td>748.69</td>\n",
       "      <td>2</td>\n",
       "    </tr>\n",
       "    <tr>\n",
       "      <th>b1b341e9be7b4c3380451a8071957029</th>\n",
       "      <td>1.0</td>\n",
       "      <td>0.0</td>\n",
       "      <td>1.0</td>\n",
       "      <td>9.0</td>\n",
       "      <td>671.26</td>\n",
       "      <td>2</td>\n",
       "    </tr>\n",
       "    <tr>\n",
       "      <th>a8fc8a1034d34edf9bc2c6dfaec408e1</th>\n",
       "      <td>3.0</td>\n",
       "      <td>2.0</td>\n",
       "      <td>2.0</td>\n",
       "      <td>15.0</td>\n",
       "      <td>524.45</td>\n",
       "      <td>2</td>\n",
       "    </tr>\n",
       "  </tbody>\n",
       "</table>\n",
       "</div>"
      ],
      "text/plain": [
       "                                  num_received  num_viewed  num_completed  \\\n",
       "person                                                                      \n",
       "72238c93bdfb4272a1f104a59ccc3a37           3.0         3.0            0.0   \n",
       "b1b341e9be7b4c3380451a8071957029           1.0         0.0            1.0   \n",
       "a8fc8a1034d34edf9bc2c6dfaec408e1           3.0         2.0            2.0   \n",
       "\n",
       "                                  num_transactions  money_spent  cluster  \n",
       "person                                                                    \n",
       "72238c93bdfb4272a1f104a59ccc3a37               4.0       748.69        2  \n",
       "b1b341e9be7b4c3380451a8071957029               9.0       671.26        2  \n",
       "a8fc8a1034d34edf9bc2c6dfaec408e1              15.0       524.45        2  "
      ]
     },
     "execution_count": 72,
     "metadata": {},
     "output_type": "execute_result"
    }
   ],
   "source": [
    "cluster_2_customers.sample(3)"
   ]
  },
  {
   "cell_type": "code",
   "execution_count": 73,
   "id": "494dfb71",
   "metadata": {},
   "outputs": [
    {
     "data": {
      "text/html": [
       "<div>\n",
       "<style scoped>\n",
       "    .dataframe tbody tr th:only-of-type {\n",
       "        vertical-align: middle;\n",
       "    }\n",
       "\n",
       "    .dataframe tbody tr th {\n",
       "        vertical-align: top;\n",
       "    }\n",
       "\n",
       "    .dataframe thead th {\n",
       "        text-align: right;\n",
       "    }\n",
       "</style>\n",
       "<table border=\"1\" class=\"dataframe\">\n",
       "  <thead>\n",
       "    <tr style=\"text-align: right;\">\n",
       "      <th></th>\n",
       "      <th>num_received</th>\n",
       "      <th>num_viewed</th>\n",
       "      <th>num_completed</th>\n",
       "      <th>num_transactions</th>\n",
       "      <th>money_spent</th>\n",
       "      <th>cluster</th>\n",
       "    </tr>\n",
       "    <tr>\n",
       "      <th>person</th>\n",
       "      <th></th>\n",
       "      <th></th>\n",
       "      <th></th>\n",
       "      <th></th>\n",
       "      <th></th>\n",
       "      <th></th>\n",
       "    </tr>\n",
       "  </thead>\n",
       "  <tbody>\n",
       "    <tr>\n",
       "      <th>2119673616e04d3eb001c92dee19ddc5</th>\n",
       "      <td>6.0</td>\n",
       "      <td>6.0</td>\n",
       "      <td>5.0</td>\n",
       "      <td>22.0</td>\n",
       "      <td>783.09</td>\n",
       "      <td>3</td>\n",
       "    </tr>\n",
       "    <tr>\n",
       "      <th>722861f1006e4bd19439516cce98fbfd</th>\n",
       "      <td>4.0</td>\n",
       "      <td>3.0</td>\n",
       "      <td>3.0</td>\n",
       "      <td>10.0</td>\n",
       "      <td>632.75</td>\n",
       "      <td>3</td>\n",
       "    </tr>\n",
       "    <tr>\n",
       "      <th>df0f7b3282b047b79713a6d86fbceba5</th>\n",
       "      <td>4.0</td>\n",
       "      <td>3.0</td>\n",
       "      <td>4.0</td>\n",
       "      <td>9.0</td>\n",
       "      <td>682.90</td>\n",
       "      <td>3</td>\n",
       "    </tr>\n",
       "  </tbody>\n",
       "</table>\n",
       "</div>"
      ],
      "text/plain": [
       "                                  num_received  num_viewed  num_completed  \\\n",
       "person                                                                      \n",
       "2119673616e04d3eb001c92dee19ddc5           6.0         6.0            5.0   \n",
       "722861f1006e4bd19439516cce98fbfd           4.0         3.0            3.0   \n",
       "df0f7b3282b047b79713a6d86fbceba5           4.0         3.0            4.0   \n",
       "\n",
       "                                  num_transactions  money_spent  cluster  \n",
       "person                                                                    \n",
       "2119673616e04d3eb001c92dee19ddc5              22.0       783.09        3  \n",
       "722861f1006e4bd19439516cce98fbfd              10.0       632.75        3  \n",
       "df0f7b3282b047b79713a6d86fbceba5               9.0       682.90        3  "
      ]
     },
     "execution_count": 73,
     "metadata": {},
     "output_type": "execute_result"
    }
   ],
   "source": [
    "cluster_3_customers.sample(3)"
   ]
  },
  {
   "cell_type": "code",
   "execution_count": 74,
   "id": "8701ed70",
   "metadata": {},
   "outputs": [],
   "source": [
    "# Concatenate the DataFrames\n",
    "combined_df1 = pd.concat([customer_with_cluster,cluster_2_customers])\n",
    "combined_df2 = pd.concat([combined_df1,cluster_3_customers])"
   ]
  },
  {
   "cell_type": "code",
   "execution_count": 75,
   "id": "404e5dbf",
   "metadata": {},
   "outputs": [
    {
     "data": {
      "text/html": [
       "<div>\n",
       "<style scoped>\n",
       "    .dataframe tbody tr th:only-of-type {\n",
       "        vertical-align: middle;\n",
       "    }\n",
       "\n",
       "    .dataframe tbody tr th {\n",
       "        vertical-align: top;\n",
       "    }\n",
       "\n",
       "    .dataframe thead th {\n",
       "        text-align: right;\n",
       "    }\n",
       "</style>\n",
       "<table border=\"1\" class=\"dataframe\">\n",
       "  <thead>\n",
       "    <tr style=\"text-align: right;\">\n",
       "      <th></th>\n",
       "      <th>num_received</th>\n",
       "      <th>num_viewed</th>\n",
       "      <th>num_completed</th>\n",
       "      <th>num_transactions</th>\n",
       "      <th>money_spent</th>\n",
       "      <th>cluster</th>\n",
       "    </tr>\n",
       "    <tr>\n",
       "      <th>person</th>\n",
       "      <th></th>\n",
       "      <th></th>\n",
       "      <th></th>\n",
       "      <th></th>\n",
       "      <th></th>\n",
       "      <th></th>\n",
       "    </tr>\n",
       "  </thead>\n",
       "  <tbody>\n",
       "    <tr>\n",
       "      <th>7f7a6c151930485f9cf1b47ecfe0ad2c</th>\n",
       "      <td>4.0</td>\n",
       "      <td>4.0</td>\n",
       "      <td>1.0</td>\n",
       "      <td>9.0</td>\n",
       "      <td>30.64</td>\n",
       "      <td>1</td>\n",
       "    </tr>\n",
       "    <tr>\n",
       "      <th>6671bb69613249e595e42e0594444789</th>\n",
       "      <td>4.0</td>\n",
       "      <td>1.0</td>\n",
       "      <td>1.0</td>\n",
       "      <td>2.0</td>\n",
       "      <td>9.06</td>\n",
       "      <td>4</td>\n",
       "    </tr>\n",
       "    <tr>\n",
       "      <th>6fbfb3e6edb94e6eb953aeed4a7971cb</th>\n",
       "      <td>5.0</td>\n",
       "      <td>5.0</td>\n",
       "      <td>4.0</td>\n",
       "      <td>15.0</td>\n",
       "      <td>197.96</td>\n",
       "      <td>3</td>\n",
       "    </tr>\n",
       "  </tbody>\n",
       "</table>\n",
       "</div>"
      ],
      "text/plain": [
       "                                  num_received  num_viewed  num_completed  \\\n",
       "person                                                                      \n",
       "7f7a6c151930485f9cf1b47ecfe0ad2c           4.0         4.0            1.0   \n",
       "6671bb69613249e595e42e0594444789           4.0         1.0            1.0   \n",
       "6fbfb3e6edb94e6eb953aeed4a7971cb           5.0         5.0            4.0   \n",
       "\n",
       "                                  num_transactions  money_spent  cluster  \n",
       "person                                                                    \n",
       "7f7a6c151930485f9cf1b47ecfe0ad2c               9.0        30.64        1  \n",
       "6671bb69613249e595e42e0594444789               2.0         9.06        4  \n",
       "6fbfb3e6edb94e6eb953aeed4a7971cb              15.0       197.96        3  "
      ]
     },
     "execution_count": 75,
     "metadata": {},
     "output_type": "execute_result"
    }
   ],
   "source": [
    "combined_df2.sample(3)"
   ]
  },
  {
   "cell_type": "code",
   "execution_count": 76,
   "id": "2e941ed4",
   "metadata": {},
   "outputs": [
    {
     "data": {
      "text/plain": [
       "(14825, 6)"
      ]
     },
     "execution_count": 76,
     "metadata": {},
     "output_type": "execute_result"
    }
   ],
   "source": [
    "combined_df2.shape"
   ]
  },
  {
   "cell_type": "markdown",
   "id": "73d6dd69",
   "metadata": {},
   "source": [
    "<p style=\"color:pink; font-size:16px;\">Joining the combined data frame with customers data so, that we can get the average demographics of each cluster"
   ]
  },
  {
   "cell_type": "code",
   "execution_count": 77,
   "id": "cb50dd7f",
   "metadata": {},
   "outputs": [],
   "source": [
    "# Set 'person' as the index in the customers DataFrame to prepare for join\n",
    "customers.set_index('id', inplace=True)"
   ]
  },
  {
   "cell_type": "code",
   "execution_count": 78,
   "id": "b4ba61e9",
   "metadata": {},
   "outputs": [
    {
     "data": {
      "text/html": [
       "<div>\n",
       "<style scoped>\n",
       "    .dataframe tbody tr th:only-of-type {\n",
       "        vertical-align: middle;\n",
       "    }\n",
       "\n",
       "    .dataframe tbody tr th {\n",
       "        vertical-align: top;\n",
       "    }\n",
       "\n",
       "    .dataframe thead th {\n",
       "        text-align: right;\n",
       "    }\n",
       "</style>\n",
       "<table border=\"1\" class=\"dataframe\">\n",
       "  <thead>\n",
       "    <tr style=\"text-align: right;\">\n",
       "      <th></th>\n",
       "      <th>person</th>\n",
       "      <th>num_received</th>\n",
       "      <th>num_viewed</th>\n",
       "      <th>num_completed</th>\n",
       "      <th>num_transactions</th>\n",
       "      <th>money_spent</th>\n",
       "      <th>cluster</th>\n",
       "      <th>gender</th>\n",
       "      <th>age</th>\n",
       "      <th>became_member_on</th>\n",
       "      <th>income</th>\n",
       "      <th>age_group</th>\n",
       "      <th>income_group</th>\n",
       "    </tr>\n",
       "  </thead>\n",
       "  <tbody>\n",
       "    <tr>\n",
       "      <th>0</th>\n",
       "      <td>0009655768c64bdeb2e877511632db8f</td>\n",
       "      <td>5.0</td>\n",
       "      <td>4.0</td>\n",
       "      <td>3.0</td>\n",
       "      <td>8.0</td>\n",
       "      <td>127.60</td>\n",
       "      <td>2</td>\n",
       "      <td>M</td>\n",
       "      <td>33</td>\n",
       "      <td>20170421</td>\n",
       "      <td>72000.0</td>\n",
       "      <td>30-40yrs</td>\n",
       "      <td>70-90k</td>\n",
       "    </tr>\n",
       "    <tr>\n",
       "      <th>1</th>\n",
       "      <td>0011e0d4e6b944f998e987f904e8c1e5</td>\n",
       "      <td>5.0</td>\n",
       "      <td>5.0</td>\n",
       "      <td>3.0</td>\n",
       "      <td>5.0</td>\n",
       "      <td>79.46</td>\n",
       "      <td>1</td>\n",
       "      <td>O</td>\n",
       "      <td>40</td>\n",
       "      <td>20180109</td>\n",
       "      <td>57000.0</td>\n",
       "      <td>30-40yrs</td>\n",
       "      <td>50-70k</td>\n",
       "    </tr>\n",
       "    <tr>\n",
       "      <th>2</th>\n",
       "      <td>0020c2b971eb4e9188eac86d93036a77</td>\n",
       "      <td>5.0</td>\n",
       "      <td>3.0</td>\n",
       "      <td>3.0</td>\n",
       "      <td>8.0</td>\n",
       "      <td>196.86</td>\n",
       "      <td>2</td>\n",
       "      <td>F</td>\n",
       "      <td>59</td>\n",
       "      <td>20160304</td>\n",
       "      <td>90000.0</td>\n",
       "      <td>50-60yrs</td>\n",
       "      <td>70-90k</td>\n",
       "    </tr>\n",
       "    <tr>\n",
       "      <th>3</th>\n",
       "      <td>0020ccbbb6d84e358d3414a3ff76cffd</td>\n",
       "      <td>4.0</td>\n",
       "      <td>4.0</td>\n",
       "      <td>3.0</td>\n",
       "      <td>12.0</td>\n",
       "      <td>154.05</td>\n",
       "      <td>2</td>\n",
       "      <td>F</td>\n",
       "      <td>24</td>\n",
       "      <td>20161111</td>\n",
       "      <td>60000.0</td>\n",
       "      <td>18-30yrs</td>\n",
       "      <td>50-70k</td>\n",
       "    </tr>\n",
       "    <tr>\n",
       "      <th>4</th>\n",
       "      <td>003d66b6608740288d6cc97a6903f4f0</td>\n",
       "      <td>5.0</td>\n",
       "      <td>4.0</td>\n",
       "      <td>3.0</td>\n",
       "      <td>18.0</td>\n",
       "      <td>48.34</td>\n",
       "      <td>0</td>\n",
       "      <td>F</td>\n",
       "      <td>26</td>\n",
       "      <td>20170621</td>\n",
       "      <td>73000.0</td>\n",
       "      <td>18-30yrs</td>\n",
       "      <td>70-90k</td>\n",
       "    </tr>\n",
       "  </tbody>\n",
       "</table>\n",
       "</div>"
      ],
      "text/plain": [
       "                             person  num_received  num_viewed  num_completed  \\\n",
       "0  0009655768c64bdeb2e877511632db8f           5.0         4.0            3.0   \n",
       "1  0011e0d4e6b944f998e987f904e8c1e5           5.0         5.0            3.0   \n",
       "2  0020c2b971eb4e9188eac86d93036a77           5.0         3.0            3.0   \n",
       "3  0020ccbbb6d84e358d3414a3ff76cffd           4.0         4.0            3.0   \n",
       "4  003d66b6608740288d6cc97a6903f4f0           5.0         4.0            3.0   \n",
       "\n",
       "   num_transactions  money_spent  cluster gender  age  became_member_on  \\\n",
       "0               8.0       127.60        2      M   33          20170421   \n",
       "1               5.0        79.46        1      O   40          20180109   \n",
       "2               8.0       196.86        2      F   59          20160304   \n",
       "3              12.0       154.05        2      F   24          20161111   \n",
       "4              18.0        48.34        0      F   26          20170621   \n",
       "\n",
       "    income age_group income_group  \n",
       "0  72000.0  30-40yrs       70-90k  \n",
       "1  57000.0  30-40yrs       50-70k  \n",
       "2  90000.0  50-60yrs       70-90k  \n",
       "3  60000.0  18-30yrs       50-70k  \n",
       "4  73000.0  18-30yrs       70-90k  "
      ]
     },
     "execution_count": 78,
     "metadata": {},
     "output_type": "execute_result"
    }
   ],
   "source": [
    "# Reset index to ensure `person` is a column in `combined_df`\n",
    "combined_df2 = combined_df2.reset_index()\n",
    "\n",
    "# Join the DataFrames\n",
    "customer_behavior_profile = pd.merge(combined_df2, customers, left_on='person', right_on='id')\n",
    "\n",
    "# Verify the join\n",
    "customer_behavior_profile.head()"
   ]
  },
  {
   "cell_type": "code",
   "execution_count": 79,
   "id": "caa328c3",
   "metadata": {},
   "outputs": [
    {
     "data": {
      "text/html": [
       "<div>\n",
       "<style scoped>\n",
       "    .dataframe tbody tr th:only-of-type {\n",
       "        vertical-align: middle;\n",
       "    }\n",
       "\n",
       "    .dataframe tbody tr th {\n",
       "        vertical-align: top;\n",
       "    }\n",
       "\n",
       "    .dataframe thead th {\n",
       "        text-align: right;\n",
       "    }\n",
       "</style>\n",
       "<table border=\"1\" class=\"dataframe\">\n",
       "  <thead>\n",
       "    <tr style=\"text-align: right;\">\n",
       "      <th></th>\n",
       "      <th>person</th>\n",
       "      <th>num_received</th>\n",
       "      <th>num_viewed</th>\n",
       "      <th>num_completed</th>\n",
       "      <th>num_transactions</th>\n",
       "      <th>money_spent</th>\n",
       "      <th>cluster</th>\n",
       "      <th>gender</th>\n",
       "      <th>age</th>\n",
       "      <th>became_member_on</th>\n",
       "      <th>income</th>\n",
       "      <th>age_group</th>\n",
       "      <th>income_group</th>\n",
       "      <th>cluster_alias</th>\n",
       "    </tr>\n",
       "  </thead>\n",
       "  <tbody>\n",
       "    <tr>\n",
       "      <th>0</th>\n",
       "      <td>0009655768c64bdeb2e877511632db8f</td>\n",
       "      <td>5.0</td>\n",
       "      <td>4.0</td>\n",
       "      <td>3.0</td>\n",
       "      <td>8.0</td>\n",
       "      <td>127.60</td>\n",
       "      <td>2</td>\n",
       "      <td>M</td>\n",
       "      <td>33</td>\n",
       "      <td>20170421</td>\n",
       "      <td>72000.0</td>\n",
       "      <td>30-40yrs</td>\n",
       "      <td>70-90k</td>\n",
       "      <td>High-Potentials</td>\n",
       "    </tr>\n",
       "    <tr>\n",
       "      <th>1</th>\n",
       "      <td>0011e0d4e6b944f998e987f904e8c1e5</td>\n",
       "      <td>5.0</td>\n",
       "      <td>5.0</td>\n",
       "      <td>3.0</td>\n",
       "      <td>5.0</td>\n",
       "      <td>79.46</td>\n",
       "      <td>1</td>\n",
       "      <td>O</td>\n",
       "      <td>40</td>\n",
       "      <td>20180109</td>\n",
       "      <td>57000.0</td>\n",
       "      <td>30-40yrs</td>\n",
       "      <td>50-70k</td>\n",
       "      <td>Ocasional-Spenders</td>\n",
       "    </tr>\n",
       "    <tr>\n",
       "      <th>2</th>\n",
       "      <td>0020c2b971eb4e9188eac86d93036a77</td>\n",
       "      <td>5.0</td>\n",
       "      <td>3.0</td>\n",
       "      <td>3.0</td>\n",
       "      <td>8.0</td>\n",
       "      <td>196.86</td>\n",
       "      <td>2</td>\n",
       "      <td>F</td>\n",
       "      <td>59</td>\n",
       "      <td>20160304</td>\n",
       "      <td>90000.0</td>\n",
       "      <td>50-60yrs</td>\n",
       "      <td>70-90k</td>\n",
       "      <td>High-Potentials</td>\n",
       "    </tr>\n",
       "  </tbody>\n",
       "</table>\n",
       "</div>"
      ],
      "text/plain": [
       "                             person  num_received  num_viewed  num_completed  \\\n",
       "0  0009655768c64bdeb2e877511632db8f           5.0         4.0            3.0   \n",
       "1  0011e0d4e6b944f998e987f904e8c1e5           5.0         5.0            3.0   \n",
       "2  0020c2b971eb4e9188eac86d93036a77           5.0         3.0            3.0   \n",
       "\n",
       "   num_transactions  money_spent  cluster gender  age  became_member_on  \\\n",
       "0               8.0       127.60        2      M   33          20170421   \n",
       "1               5.0        79.46        1      O   40          20180109   \n",
       "2               8.0       196.86        2      F   59          20160304   \n",
       "\n",
       "    income age_group income_group       cluster_alias  \n",
       "0  72000.0  30-40yrs       70-90k     High-Potentials  \n",
       "1  57000.0  30-40yrs       50-70k  Ocasional-Spenders  \n",
       "2  90000.0  50-60yrs       70-90k     High-Potentials  "
      ]
     },
     "execution_count": 79,
     "metadata": {},
     "output_type": "execute_result"
    }
   ],
   "source": [
    "# Define a mapping function for cluster aliases\n",
    "def map_cluster_alias(cluster):\n",
    "    mapping = {\n",
    "        3: 'Most-Valables',\n",
    "        0: 'Regulars',\n",
    "        2: 'High-Potentials',\n",
    "        1: 'Ocasional-Spenders',\n",
    "        4: 'Low-Engagers'\n",
    "    }\n",
    "    return mapping.get(cluster, 'Unknown')\n",
    "\n",
    "# Add column `cluster_alias` using the mapping function\n",
    "customer_behavior_profile['cluster_alias'] = customer_behavior_profile['cluster'].apply(map_cluster_alias)\n",
    "\n",
    "# Display the first 3 rows\n",
    "customer_behavior_profile.head(3)"
   ]
  },
  {
   "cell_type": "code",
   "execution_count": 80,
   "id": "a8c604ad",
   "metadata": {
    "scrolled": false
   },
   "outputs": [
    {
     "data": {
      "image/png": "[encoded data removed]",
      "text/plain": [
       "<Figure size 600x400 with 1 Axes>"
      ]
     },
     "metadata": {},
     "output_type": "display_data"
    }
   ],
   "source": [
    "# Calculate the percentage distribution of each cluster\n",
    "cluster_counts = customer_behavior_profile['cluster'].value_counts()\n",
    "cluster_percent = (cluster_counts / cluster_counts.sum() * 100).round(2)\n",
    "cluster_names = ['Most-Valuables', 'Regulars', 'High-Potentials', 'Ocasional-Spenders', 'Low-Engagers']\n",
    "\n",
    "\n",
    "%matplotlib inline\n",
    "\n",
    "# Plot pie chart\n",
    "fig, ax = plt.subplots(figsize=(6, 4))\n",
    "ax.pie(cluster_counts, labels=cluster_names, autopct='%1.1f%%', startangle=140, colors=sns.color_palette(\"husl\", len(cluster_names)))\n",
    "\n",
    "plt.title('Customer Distribution by Segment', fontsize=14)\n",
    "plt.show()"
   ]
  },
  {
   "cell_type": "markdown",
   "id": "bc9bb2d8",
   "metadata": {},
   "source": [
    "<p style=\"color:skyblue; font-size:14px; font-family:Verdana;\">Key Insights\n",
    "\n",
    "<p style=\"color:skyblue; font-size:14px; font-family:Verdana;\">1. Balanced Distribution:\n",
    "The customer base appears fairly evenly distributed across segments, with no single group dominating. This suggests a diverse customer base with varied engagement levels and spending habits.\n",
    "\n",
    "<p style=\"color:skyblue; font-size:14px; font-family:Verdana;\">2. Significant \"Most-Valuables\" Segment:\n",
    "The \"Most-Valuables\" segment comprises 24% of customers - the largest single group. This is a positive sign, indicating a substantial portion of high-value, loyal customers who likely contribute disproportionately to revenue.\n",
    "\n",
    "<p style=\"color:skyblue; font-size:14px; font-family:Verdana;\">3. Growth Potential:\n",
    "The \"High-Potentials\" (21.9%) and \"Occasional-Spenders\" (21.4%) segments together make up over 43% of customers. This represents a significant opportunity for increasing engagement and spending through targeted marketing and loyalty programs.\n",
    "\n",
    "<p style=\"color:skyblue; font-size:14px; font-family:Verdana;\">4. Steady Core:\n",
    "The \"Regulars\" segment at 22.6% suggests a solid base of consistent customers. While not the highest spenders, they provide stable revenue and could be targeted for upselling.\n",
    "\n",
    "<p style=\"color:skyblue; font-size:14px; font-family:Verdana;\">5. Engagement Challenge:\n",
    "The \"Low-Engagers\" at 10.1% represent customers at risk of churn. While the smallest segment, it's still a notable portion that requires attention to re-engage or prevent further disengagement."
   ]
  },
  {
   "cell_type": "code",
   "execution_count": 81,
   "id": "41a98f29",
   "metadata": {},
   "outputs": [
    {
     "data": {
      "text/html": [
       "<div>\n",
       "<style scoped>\n",
       "    .dataframe tbody tr th:only-of-type {\n",
       "        vertical-align: middle;\n",
       "    }\n",
       "\n",
       "    .dataframe tbody tr th {\n",
       "        vertical-align: top;\n",
       "    }\n",
       "\n",
       "    .dataframe thead th {\n",
       "        text-align: right;\n",
       "    }\n",
       "</style>\n",
       "<table border=\"1\" class=\"dataframe\">\n",
       "  <thead>\n",
       "    <tr style=\"text-align: right;\">\n",
       "      <th></th>\n",
       "      <th>age</th>\n",
       "      <th>income</th>\n",
       "    </tr>\n",
       "    <tr>\n",
       "      <th>cluster_alias</th>\n",
       "      <th></th>\n",
       "      <th></th>\n",
       "    </tr>\n",
       "  </thead>\n",
       "  <tbody>\n",
       "    <tr>\n",
       "      <th>High-Potentials</th>\n",
       "      <td>57.58</td>\n",
       "      <td>73818.76</td>\n",
       "    </tr>\n",
       "    <tr>\n",
       "      <th>Low-Engagers</th>\n",
       "      <td>52.60</td>\n",
       "      <td>60911.31</td>\n",
       "    </tr>\n",
       "    <tr>\n",
       "      <th>Most-Valables</th>\n",
       "      <td>56.30</td>\n",
       "      <td>71676.52</td>\n",
       "    </tr>\n",
       "    <tr>\n",
       "      <th>Ocasional-Spenders</th>\n",
       "      <td>54.53</td>\n",
       "      <td>63550.91</td>\n",
       "    </tr>\n",
       "    <tr>\n",
       "      <th>Regulars</th>\n",
       "      <td>47.46</td>\n",
       "      <td>48837.01</td>\n",
       "    </tr>\n",
       "  </tbody>\n",
       "</table>\n",
       "</div>"
      ],
      "text/plain": [
       "                      age    income\n",
       "cluster_alias                      \n",
       "High-Potentials     57.58  73818.76\n",
       "Low-Engagers        52.60  60911.31\n",
       "Most-Valables       56.30  71676.52\n",
       "Ocasional-Spenders  54.53  63550.91\n",
       "Regulars            47.46  48837.01"
      ]
     },
     "execution_count": 81,
     "metadata": {},
     "output_type": "execute_result"
    }
   ],
   "source": [
    "#Average demographics of each segment\n",
    "cluster_avg = customer_behavior_profile.groupby('cluster_alias').agg({'age': 'mean', 'income': 'mean'})\n",
    "\n",
    "cluster_avg.round(2).head()"
   ]
  },
  {
   "cell_type": "markdown",
   "id": "32aeb92f",
   "metadata": {},
   "source": [
    "<p style=\"color:pink; font-size:14px; font-family:Verdana;\">1.High-Potentials:\n",
    "<p style=\"color:skyblue; font-size:14px; font-family:Verdana;\">These customers are older and have the highest average income. They're likely established professionals or retirees with significant disposable income. Their high income suggests they have the potential to become very valuable customers if Starbucks can increase their engagement and spending.\n",
    "\n",
    "<p style=\"color:pink; font-size:14px; font-family:Verdana;\">2.Low-Engagers:\n",
    "<p style=\"color:skyblue; font-size:14px; font-family:Verdana;\">This group is middle-aged with a moderate income. Their lower engagement might be due to busier lifestyles, preference for home-brewed coffee, or being more price-sensitive despite having a decent income.\n",
    "\n",
    "<p style=\"color:pink; font-size:14px; font-family:Verdana;\">3.Most-Valuables:\n",
    "<p style=\"color:skyblue; font-size:14px; font-family:Verdana;\">Similar to High-Potentials in age and income, these customers are likely already frequent Starbucks patrons. Their high value could stem from regular visits, purchasing premium products, or using Starbucks for business meetings.\n",
    "\n",
    "<p style=\"color:pink; font-size:14px; font-family:Verdana;\">4.Occasional-Spenders:\n",
    "<p style=\"color:skyblue; font-size:14px; font-family:Verdana;\"> group has an above-average age and income. They might view Starbucks as a treat rather than a daily necessity, possibly due to budget consciousness or varied coffee preferences.\n",
    "\n",
    "<p style=\"color:pink; font-size:14px; font-family:Verdana;\">5.Regulars:\n",
    "<p style=\"color:skyblue; font-size:14px; font-family:Verdana;\">The youngest group with the lowest average income. These could be younger professionals or families who have made Starbucks a part of their daily routine, possibly valuing convenience and the social aspect of coffee shops despite having less disposable income."
   ]
  },
  {
   "cell_type": "markdown",
   "id": "1af76693",
   "metadata": {},
   "source": [
    "<br><br><br><br>"
   ]
  },
  {
   "cell_type": "markdown",
   "id": "aa597d35",
   "metadata": {},
   "source": [
    "**5.RESULTS SUMMARY:**  <a class=\"anchor\" id=\"5-results-summary\"></a>"
   ]
  },
  {
   "cell_type": "markdown",
   "id": "662df654",
   "metadata": {},
   "source": [
    "1. **Customer Engagement and Loyalty:**\n",
    "The high transaction volume (138,953) compared to completed offers (33,579) suggests strong customer loyalty and frequent purchasing behavior, typical for a fast-moving consumer goods (FMCG) business like Starbucks. This indicates that many customers make purchases without relying on promotional offers.\n",
    "\n",
    "\n",
    "2. **Offer Effectiveness:**\n",
    "The campaign showed good overall engagement, with 76% of distributed offers being viewed and 44% being completed.\n",
    "Discount offers (particularly F and E) outperformed \"Buy One Get One\" (BOGO) offers in terms of completion rates, indicating a customer preference for straightforward discounts.\n",
    "Offer duration positively correlated with completion rates, suggesting that longer-running promotions give customers more opportunity to participate.\n",
    "\n",
    "\n",
    "3. **Channel Optimization:**\n",
    "The effectiveness of promotional channels, in order of view rates, is:\n",
    "Social Media > Email ≥ Mobile > Websites\n",
    "Offers utilizing all four channels (web, email, mobile, social) achieved the highest view rates (around 96%), highlighting the importance of a multi-channel approach.\n",
    "\n",
    "\n",
    "4. **Offer Design Considerations:**\n",
    "Lower difficulty levels in offers generally led to better completion rates.\n",
    "The reward size did not significantly impact completion rates, suggesting that ease of redemption may be more important than the size of the reward.\n",
    "Informational offers (I and J) had varied view rates but no completion metrics, indicating their role in customer education rather than direct sales.\n",
    "\n",
    "\n",
    "5. **Top-Performing Offers:**\n",
    "Offers F, E, and B had the highest completion rates (70%, 68%, and 56% respectively), providing models for future promotional designs.\n",
    "\n",
    "<br>\n",
    "\n",
    "**Customer Demographics:**\n",
    "\n",
    "1. Gender Distribution: The majority of Starbucks customers are male (57.2%), followed by females (41.3%) and a small percentage representing other genders (1.4%). This skew toward male customers might be reflective of broader consumer trends in coffee consumption or could indicate opportunities for targeted marketing campaigns to further engage female customers and those identifying as other genders.\n",
    "\n",
    "2. Age Distribution: The largest customer age group is between 50-60 years (24.3%), followed by 60-70 years (19.7%), and 40-50 years (16.2%). Together, these three age groups represent over 60% of the customer base, suggesting that Starbucks appeals significantly to middle-aged and older adults. This could be due to factors like higher disposable income, brand loyalty, and a preference for premium experiences that align with their lifestyle. However, younger age groups (18-30 years and 30-40 years) show lower engagement, indicating a potential area for growth through targeted marketing and product offerings tailored to their preferences.\n",
    "\n",
    "3.  Income Distribution: The most significant portion of Starbucks customers earn between `$50,000` and `$70,000` (34%), followed by those earning `$30,000` to `$50,000` (26.8%) and `$70,000` to `$90,000` (24.4%). This suggests that Starbucks' customer base is primarily middle-income, with customers in these brackets being able to afford premium products without viewing them as overly expensive. The relatively smaller percentage of customers earning above `$90,000` indicates that while Starbucks attracts higher-income customers, it remains a brand with broad appeal across various income levels.\n",
    "\n",
    "<br>\n",
    "\n",
    "**Cluster Distribution and Significance:**\n",
    "\n",
    "-  **Most-Valuables:** Already loyal and high-spending, likely due to regular visits or use of premium services.\n",
    "-  **Regulars:** Younger, lower-income group, consistent but low-spending.\n",
    "-  **High-Potentials:** High income but moderate engagement, presenting an opportunity to convert them into top-tier customers.\n",
    "-  **Occasional-Spenders:** Above-average age and income, suggesting that they view Starbucks as an occasional indulgence.\n",
    "-  **Low-Engagers:** Middle-aged with moderate income, indicating potential barriers like price sensitivity or lifestyle preferences.\n",
    "\n",
    "The customer base is evenly distributed across five distinct segments, each representing different levels of engagement and spending behavior.\n",
    "The \"Most-Valuables\" segment is the largest **(24%)**, followed closely by \"High-Potentials\" **(21.9 %)** and \"Occasional-Spenders\" **(21.4%)**. These three segments collectively account for a substantial portion of revenue.The \"Regulars\" **(22.6%)** offer consistent revenue, while \"Low-Engagers\" **(10.1%)** represent a group at risk of churn.\n",
    "\n",
    "**Demographics:**\n",
    "Age and Income Insights: The \"Most-Valuables\" and \"High-Potentials\" are older, with higher average incomes, while the \"Regulars\" are younger with the lowest income."
   ]
  },
  {
   "cell_type": "markdown",
   "id": "6d987aba",
   "metadata": {},
   "source": [
    "<br><br><br>"
   ]
  },
  {
   "cell_type": "markdown",
   "id": "b82544fb",
   "metadata": {},
   "source": [
    "**6.ACTIONS AND RECOMMENDATIONS**  <a class=\"anchor\" id=\"6-actions-and-recommendations\"></a>"
   ]
  },
  {
   "cell_type": "markdown",
   "id": "b9243872",
   "metadata": {},
   "source": [
    "Optimizing Offer Strategies for Better Customer Engagement.Offers not only drive immediate sales but also enhance customer loyalty. Although the impact of each offer is brief, effective strategies can maximize their long-term benefits:\n",
    "\n",
    "1.   Multi-Channel Promotion:Use various channels, especially social media and email, to increase offer visibility and engagement.\n",
    "   \n",
    "2.   Prioritize Discount Offers:Focus on discounts rather than BOGO deals, as they tend to resonate better with customers and lead to higher completion rates.\n",
    "\n",
    "3.   Simplify and Extend Offers:Design offers that are easy to redeem and have longer durations. This approach reduces barriers and gives customers more time to take advantage of the promotions.\n",
    "   \n",
    "These strategies can help boost immediate revenue while building long-term customer loyalty.\n",
    "\n",
    "4.Demographic Targeting:\n",
    "   - Consider targeted marketing campaigns to further engage female customers, as well as those identifying as other genders, to balance the gender distribution.\n",
    "   - Introduce Couple Offers and Themed Promotions: Create special offers for couples, such as \"Buy One, Get One\" deals or discounts on shared items, combined with themes focused on love and dates. These promotions can be centered around specific dates like Valentine's Day or \"Date Nights,\" and can be integrated into the overall ambiance of the store. This strategy is likely to attract younger customers by setting a trend. \n",
    "     \n",
    "5.Customer Segment Targeted Marketing:\n",
    "\n",
    "- Increase Engagement in \"High-Potentials\": Tailor campaigns to this segment by promoting premium offerings and loyalty programs that reward frequent visits, aiming to boost their engagement and spending.\n",
    "- Re-engage \"Low-Engagers\": Develop personalized offers that align with their price sensitivity and preferences, such as discounts on staple products or subscription services.\n",
    "\n",
    "- Loyalty and Upselling:Enhance \"Most-Valuables\" Experience: Introduce exclusive benefits, such as early access to new products or premium seating, to maintain their loyalty and encourage additional spending.\n",
    "\n",
    "- Upsell to \"Regulars\": Create campaigns that focus on upgrading their purchase experience, like offering bundled deals or premium options at a discounted rate.\n",
    "\n",
    "- Channel Optimization:Social Media and Email Marketing: Continue leveraging these channels, especially for \"High-Potentials\" and \"Most-Valuables,\" to drive engagement and brand loyalty through personalized and interactive content.\n",
    "\n",
    "- Product and Service Customization:Design Offers Based on Cluster Insights: Customize offers that match each segment’s unique profile, such as budget-friendly deals for \"Low-Engagers\" and premium experiences for \"High-Potentials\" and \"Most-Valuables.\""
   ]
  },
  {
   "cell_type": "markdown",
   "id": "9ad32f01",
   "metadata": {},
   "source": [
    "<br><br><br>"
   ]
  },
  {
   "cell_type": "markdown",
   "id": "34bd1971",
   "metadata": {},
   "source": [
    "**    **"
   ]
  },
  {
   "cell_type": "markdown",
   "id": "1ef456e9",
   "metadata": {},
   "source": [
    "**    **"
   ]
  },
  {
   "cell_type": "markdown",
   "id": "3e099573",
   "metadata": {},
   "source": [
    "**   **"
   ]
  }
 ],
 "metadata": {
  "kernelspec": {
   "display_name": "Python 3 (ipykernel)",
   "language": "python",
   "name": "python3"
  },
  "language_info": {
   "codemirror_mode": {
    "name": "ipython",
    "version": 3
   },
   "file_extension": ".py",
   "mimetype": "text/x-python",
   "name": "python",
   "nbconvert_exporter": "python",
   "pygments_lexer": "ipython3",
   "version": "3.11.1"
  },
  "varInspector": {
   "cols": {
    "lenName": 16,
    "lenType": 16,
    "lenVar": 40
   },
   "kernels_config": {
    "python": {
     "delete_cmd_postfix": "",
     "delete_cmd_prefix": "del ",
     "library": "var_list.py",
     "varRefreshCmd": "print(var_dic_list())"
    },
    "r": {
     "delete_cmd_postfix": ") ",
     "delete_cmd_prefix": "rm(",
     "library": "var_list.r",
     "varRefreshCmd": "cat(var_dic_list()) "
    }
   },
   "types_to_exclude": [
    "module",
    "function",
    "builtin_function_or_method",
    "instance",
    "_Feature"
   ],
   "window_display": false
  }
 },
 "nbformat": 4,
 "nbformat_minor": 5
}
